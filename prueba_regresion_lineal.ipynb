{
 "cells": [
  {
   "cell_type": "code",
   "execution_count": 220,
   "id": "7fe8717d",
   "metadata": {},
   "outputs": [],
   "source": [
    "import numpy as np\n",
    "import pandas as pd\n",
    "import re\n",
    "import seaborn as sns\n",
    "import matplotlib.pyplot as plt\n",
    "import math\n",
    "from sklearn import linear_model\n",
    "from sklearn.model_selection import train_test_split\n",
    "from sklearn.preprocessing import StandardScaler\n",
    "import statsmodels.api as sm\n",
    "\n",
    "\n",
    "%matplotlib inline "
   ]
  },
  {
   "cell_type": "code",
   "execution_count": 221,
   "id": "23f6634c",
   "metadata": {},
   "outputs": [
    {
     "data": {
      "text/plain": [
       "Index(['property_type', 'place_name', 'place_with_parent_names', 'state_name',\n",
       "       'lat', 'lon', 'price_aprox_usd', 'surface_total_in_m2',\n",
       "       'surface_covered_in_m2', 'rooms', 'properati_url', 'parrilla',\n",
       "       'quincho', 'patio', 'balcon', 'pileta', 'cochera', 'amenities',\n",
       "       'ciudad', 'barrio', 'subway_distance', 'precio_m2',\n",
       "       'segmento_precio_m2'],\n",
       "      dtype='object')"
      ]
     },
     "execution_count": 221,
     "metadata": {},
     "output_type": "execute_result"
    }
   ],
   "source": [
    "data_location = \"Data/properati_final.csv\"\n",
    "\n",
    "data = pd.read_csv(data_location, sep=\",\", encoding=\"UTF-8\")\n",
    "\n",
    "data.columns\n"
   ]
  },
  {
   "cell_type": "code",
   "execution_count": 222,
   "id": "63971440",
   "metadata": {},
   "outputs": [],
   "source": [
    "mask = data.state_name == 'Capital Federal'\n",
    "data = data[mask]"
   ]
  },
  {
   "cell_type": "code",
   "execution_count": 223,
   "id": "51b19cb1",
   "metadata": {},
   "outputs": [],
   "source": [
    "#voy a analizar la relación entre el precio y la distancia a los subtes"
   ]
  },
  {
   "cell_type": "code",
   "execution_count": 224,
   "id": "acd68421",
   "metadata": {},
   "outputs": [
    {
     "data": {
      "text/plain": [
       "-1321.9131598455872"
      ]
     },
     "execution_count": 224,
     "metadata": {},
     "output_type": "execute_result"
    }
   ],
   "source": [
    "x_is = data.subway_distance\n",
    "y_is =  data.price_aprox_usd\n",
    "\n",
    "x_bar = np.mean(x_is)\n",
    "\n",
    "y_bar = np.mean(y_is)\n",
    "x_is_minus_x_bar = x_is - x_bar\n",
    "\n",
    "y_is_minus_y_bar = y_is - x_bar\n",
    "y_is_minus_y_bar\n",
    "\n",
    "denom_1 = x_is_minus_x_bar ** 2\n",
    "denom = np.sum(denom_1)\n",
    "\n",
    "num_1 = x_is_minus_x_bar * y_is_minus_y_bar\n",
    "num = np.sum(num_1)\n",
    "\n",
    "beta_1_hat = num / denom\n",
    "beta_1_hat"
   ]
  },
  {
   "cell_type": "code",
   "execution_count": 225,
   "id": "69f1a797",
   "metadata": {},
   "outputs": [
    {
     "data": {
      "text/plain": [
       "<seaborn.axisgrid.FacetGrid at 0x15e11568d90>"
      ]
     },
     "execution_count": 225,
     "metadata": {},
     "output_type": "execute_result"
    },
    {
     "data": {
      "text/plain": [
       "<Figure size 720x432 with 0 Axes>"
      ]
     },
     "metadata": {},
     "output_type": "display_data"
    },
    {
     "data": {
      "image/png": "[encoded data removed]",
      "text/plain": [
       "<Figure size 511.25x360 with 1 Axes>"
      ]
     },
     "metadata": {
      "needs_background": "light"
     },
     "output_type": "display_data"
    }
   ],
   "source": [
    "plt.figure(figsize=(10,6))\n",
    "sns.displot(data=data.isna().melt(value_name=\"missing\"), y=\"variable\", hue=\"missing\", multiple=\"fill\", aspect=1.25)"
   ]
  },
  {
   "cell_type": "code",
   "execution_count": 226,
   "id": "4dc14290",
   "metadata": {},
   "outputs": [
    {
     "data": {
      "text/plain": [
       "309"
      ]
     },
     "execution_count": 226,
     "metadata": {},
     "output_type": "execute_result"
    }
   ],
   "source": [
    "data.subway_distance.isnull().sum()"
   ]
  },
  {
   "cell_type": "code",
   "execution_count": 227,
   "id": "d75de229",
   "metadata": {},
   "outputs": [],
   "source": [
    "data.dropna(subset = [\"surface_covered_in_m2\"], inplace=True)"
   ]
  },
  {
   "cell_type": "code",
   "execution_count": 228,
   "id": "2bcbdc24",
   "metadata": {},
   "outputs": [
    {
     "name": "stdout",
     "output_type": "stream",
     "text": [
      "                            OLS Regression Results                            \n",
      "==============================================================================\n",
      "Dep. Variable:        price_aprox_usd   R-squared:                       0.346\n",
      "Model:                            OLS   Adj. R-squared:                  0.346\n",
      "Method:                 Least Squares   F-statistic:                 1.272e+04\n",
      "Date:                Tue, 01 Feb 2022   Prob (F-statistic):               0.00\n",
      "Time:                        23:04:55   Log-Likelihood:            -3.3718e+05\n",
      "No. Observations:               24069   AIC:                         6.744e+05\n",
      "Df Residuals:                   24067   BIC:                         6.744e+05\n",
      "Df Model:                           1                                         \n",
      "Covariance Type:            nonrobust                                         \n",
      "==============================================================================\n",
      "                 coef    std err          t      P>|t|      [0.025      0.975]\n",
      "------------------------------------------------------------------------------\n",
      "const       1.584e+05   2146.913     73.766      0.000    1.54e+05    1.63e+05\n",
      "x1          1229.3468     10.901    112.772      0.000    1207.980    1250.714\n",
      "==============================================================================\n",
      "Omnibus:                    23964.208   Durbin-Watson:                   1.623\n",
      "Prob(Omnibus):                  0.000   Jarque-Bera (JB):         26977432.773\n",
      "Skew:                           3.870   Prob(JB):                         0.00\n",
      "Kurtosis:                     166.830   Cond. No.                         223.\n",
      "==============================================================================\n",
      "\n",
      "Notes:\n",
      "[1] Standard Errors assume that the covariance matrix of the errors is correctly specified.\n"
     ]
    }
   ],
   "source": [
    "import statsmodels.api as sm\n",
    "\n",
    "X_t = np.array(data.surface_covered_in_m2, ndmin=2)\n",
    "X = np.transpose(X_t)\n",
    "y = data.price_aprox_usd\n",
    "\n",
    "# Tenemos que agregar explícitamente a una constante:\n",
    "X = sm.add_constant(X)\n",
    "\n",
    "model = sm.OLS(y, X).fit()\n",
    "print (model.summary())"
   ]
  },
  {
   "cell_type": "code",
   "execution_count": 229,
   "id": "fa483b7f",
   "metadata": {},
   "outputs": [
    {
     "name": "stdout",
     "output_type": "stream",
     "text": [
      "                            OLS Regression Results                            \n",
      "==============================================================================\n",
      "Dep. Variable:                  rooms   R-squared:                       0.000\n",
      "Model:                            OLS   Adj. R-squared:                 -0.000\n",
      "Method:                 Least Squares   F-statistic:                    0.3003\n",
      "Date:                Tue, 01 Feb 2022   Prob (F-statistic):              0.584\n",
      "Time:                        23:04:55   Log-Likelihood:                -77320.\n",
      "No. Observations:               15453   AIC:                         1.546e+05\n",
      "Df Residuals:                   15451   BIC:                         1.547e+05\n",
      "Df Model:                           1                                         \n",
      "Covariance Type:            nonrobust                                         \n",
      "==============================================================================\n",
      "                 coef    std err          t      P>|t|      [0.025      0.975]\n",
      "------------------------------------------------------------------------------\n",
      "const          3.0896      0.302     10.241      0.000       2.498       3.681\n",
      "x1             0.0004      0.001      0.548      0.584      -0.001       0.002\n",
      "==============================================================================\n",
      "Omnibus:                    61327.101   Durbin-Watson:                   2.000\n",
      "Prob(Omnibus):                  0.000   Jarque-Bera (JB):      69905695524.578\n",
      "Skew:                          99.566   Prob(JB):                         0.00\n",
      "Kurtosis:                   10420.804   Cond. No.                         391.\n",
      "==============================================================================\n",
      "\n",
      "Notes:\n",
      "[1] Standard Errors assume that the covariance matrix of the errors is correctly specified.\n"
     ]
    }
   ],
   "source": [
    "data.dropna(subset = [\"rooms\"], inplace=True)\n",
    "data.dropna(subset = [\"surface_total_in_m2\"], inplace=True)\n",
    "\n",
    "\n",
    "X_t = np.array(data.surface_total_in_m2, ndmin=2)\n",
    "X = np.transpose(X_t)\n",
    "y = data.rooms\n",
    "\n",
    "# Tenemos que agregar explícitamente a una constante:\n",
    "X = sm.add_constant(X)\n",
    "\n",
    "model = sm.OLS(y, X).fit()\n",
    "print (model.summary())"
   ]
  },
  {
   "cell_type": "code",
   "execution_count": null,
   "id": "0dcb56ca",
   "metadata": {},
   "outputs": [],
   "source": []
  }
 ],
 "metadata": {
  "kernelspec": {
   "display_name": "Python 3 (ipykernel)",
   "language": "python",
   "name": "python3"
  },
  "language_info": {
   "codemirror_mode": {
    "name": "ipython",
    "version": 3
   },
   "file_extension": ".py",
   "mimetype": "text/x-python",
   "name": "python",
   "nbconvert_exporter": "python",
   "pygments_lexer": "ipython3",
   "version": "3.8.12"
  }
 },
 "nbformat": 4,
 "nbformat_minor": 5
}

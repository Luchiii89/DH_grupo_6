{
 "cells": [
  {
   "cell_type": "code",
   "execution_count": 4,
   "metadata": {},
   "outputs": [],
   "source": [
    "#Desafío 1 - Análisis exploratorio de un dataset de precios de propiedades.\n",
    "\n",
    "#Objetivo: desarrollar un modelo de regresión que permita predecir el precio por metro cuadrado de una propiedad."
   ]
  },
  {
   "cell_type": "code",
   "execution_count": 5,
   "metadata": {},
   "outputs": [],
   "source": [
    "# En primer lugar, vamos a seleccionar la información que creemos será de utilidad para cumplir con el objetivo.\n",
    "\n",
    "# Características del bien que pueden permitirnos aproximar el precio de una propiedad: \n",
    "\n",
    "#     1) Localidad (place_with_parent_names) \n",
    "#     2) Tipo de propiedad (property_type)\n",
    "#     3) Superficie(m2), cubierta y total (surface_total_in_m2, surface_covered_in_m2)\n",
    "#     4) Ambientes (rooms)\n",
    "\n",
    "# Como referencia para poder predecir precios, tomaremos los que se listan en el data set (price, currency, price_aprox_usd), \n",
    "# siempre buscando agrupar los mismos por las características que detallamos previamente.\n",
    "\n",
    "#Características que van a permitirnos agregar más información sobre el bien en cuestión y su precio:\n",
    "\n",
    "#     5) Ubicación geográfica (place_with_parent_names, lat-lon)\n",
    "#     6) Amenities (properati_url, description, title)\n"
   ]
  },
  {
   "cell_type": "code",
   "execution_count": 6,
   "metadata": {},
   "outputs": [],
   "source": [
    "#En segundo lugar, teniendo en cuenta que el data set contiene muchísima información y no toda estará completa o será de utilidad a\n",
    "#nuestro entender, haremos un proceso inicial de limpieza y corrección, intentando recuperar información a partir de otras variables.\n",
    "\n",
    "#a) Estandarizar los precios a una moneda. En nuestro caso, decidimos unificar los valores en USD.\n",
    "\n",
    "# b) Completaremos datos faltantes de las columnas que consideramos relevantes, aprovechando la información descriptiva de las columnas title, \n",
    "# descriprion y url. Para ello recurriremos a las expresiones regulares para completar las columnas de precios, superficie total\n",
    "# (surface_total_in_m2), habitaciones (rooms) y precios por m2.\n"
   ]
  },
  {
   "cell_type": "code",
   "execution_count": 7,
   "metadata": {},
   "outputs": [],
   "source": [
    "#En tercer lugar, seleccionaremos aquellas variables que consideramos más importantes en relación a nuestro objetivo para efectuar\n",
    "#un análisis descriptivo de las mismas."
   ]
  },
  {
   "cell_type": "code",
   "execution_count": 9,
   "metadata": {},
   "outputs": [],
   "source": [
    "#En cuarto lugar, haremos las visualizaciones generando distintos gráficos representativos de los resultados obetnidos."
   ]
  },
  {
   "cell_type": "code",
   "execution_count": 10,
   "metadata": {},
   "outputs": [],
   "source": [
    "#Por último, crearemos nuevas columnas a partir de las características dadas que puedan tener valor predictivo."
   ]
  },
  {
   "cell_type": "code",
   "execution_count": null,
   "metadata": {},
   "outputs": [],
   "source": [
    "#INTEGRANTES"
   ]
  }
 ],
 "metadata": {
  "kernelspec": {
   "display_name": "Python [conda env:dhdsblend2021] *",
   "language": "python",
   "name": "conda-env-dhdsblend2021-py"
  },
  "language_info": {
   "codemirror_mode": {
    "name": "ipython",
    "version": 3
   },
   "file_extension": ".py",
   "mimetype": "text/x-python",
   "name": "python",
   "nbconvert_exporter": "python",
   "pygments_lexer": "ipython3",
   "version": "3.8.12"
  }
 },
 "nbformat": 4,
 "nbformat_minor": 4
}

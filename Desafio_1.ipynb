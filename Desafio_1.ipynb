{
 "cells": [
  {
   "cell_type": "markdown",
   "metadata": {},
   "source": [
    "# DH - Data Science - Grupo 6.\n",
    "\n",
    "Integrantes:\n",
    "\n",
    "*    José Roberto Canales Delgado\n",
    "*    Matías Sala\n",
    "*    Luciana Sande\n",
    "*    Bianca Somadossi\n",
    "*    Tomás Guzmán Camacho\n"
   ]
  },
  {
   "cell_type": "markdown",
   "metadata": {
    "slideshow": {
     "slide_type": "slide"
    }
   },
   "source": [
    "# Desafío 1: Análisis exploratorio de un dataset de precios de propiedades.\n",
    "\n",
    "Objetivo: desarrollar un modelo de regresión que permita predecir el precio por metro cuadrado de una propiedad."
   ]
  },
  {
   "cell_type": "markdown",
   "metadata": {},
   "source": [
    "## 1. Entorno de implementación."
   ]
  },
  {
   "cell_type": "markdown",
   "metadata": {},
   "source": [
    "### 1.1 Setup inicial."
   ]
  },
  {
   "cell_type": "code",
   "execution_count": 382,
   "metadata": {},
   "outputs": [
    {
     "name": "stdout",
     "output_type": "stream",
     "text": [
      "C:\\Users\\Lu\\Lu\\Digital House\\grupo_6\\DH_grupo_6common\n",
      "default checking\n",
      "Running command `conda list`... ok\n",
      "jupyterlab=2.2.6 already installed\n",
      "pandas=1.1.5 already installed\n",
      "bokeh=2.2.3 already installed\n",
      "seaborn=0.11.0 already installed\n",
      "matplotlib=3.3.2 already installed\n",
      "ipywidgets=7.5.1 already installed\n",
      "pytest=6.2.1 already installed\n",
      "chardet=4.0.0 already installed\n",
      "psutil=5.7.2 already installed\n",
      "scipy=1.5.2 already installed\n",
      "statsmodels=0.12.1 already installed\n",
      "scikit-learn=0.23.2 already installed\n",
      "xlrd=2.0.1 already installed\n",
      "Running command `conda install --yes nltk=3.5.0`... ok\n",
      "Collecting package metadata (current_repodata.json): ...working... done\n",
      "Solving environment: ...working... done\n",
      "\n",
      "# All requested packages already installed.\n",
      "\n",
      "\n",
      "unidecode=1.1.1 already installed\n",
      "pydotplus=2.0.2 already installed\n",
      "pandas-datareader=0.9.0 already installed\n",
      "flask=1.1.2 already installed\n"
     ]
    },
    {
     "data": {
      "text/plain": [
       "<Figure size 432x288 with 0 Axes>"
      ]
     },
     "metadata": {},
     "output_type": "display_data"
    }
   ],
   "source": [
    "# initial setup\n",
    "%run \"common/0_notebooks_base_setup.py\""
   ]
  },
  {
   "cell_type": "code",
   "execution_count": 383,
   "metadata": {},
   "outputs": [],
   "source": [
    "#importamos de todas las librerías que vamos a utilizar\n",
    "\n",
    "import numpy as np\n",
    "import pandas as pd\n",
    "import re\n",
    "import geopandas as gpd\n",
    "import seaborn as sns\n",
    "import missingno as msno\n",
    "import matplotlib.pyplot as plt\n",
    "import plotly.io as pio\n",
    "import plotly.express as px\n",
    "import plotly.graph_objects as go\n",
    "import cufflinks as cf\n",
    "# import shapely \n",
    "# import descartes \n",
    "# import pyproj \n",
    "# import unicodedata\n",
    "# import squarify\n",
    "# import pygal\n",
    "from scipy.stats import iqr\n",
    "\n",
    "%matplotlib inline\n"
   ]
  },
  {
   "cell_type": "markdown",
   "metadata": {},
   "source": [
    "Descripción de las librerías y módulos importados:\n",
    "\n",
    "* NumPy: es una librería de Python (“Numerical Python”), especializada en el cálculo numérico y el análisis de datos. Proporciona potentes estructuras de datos, implementando matrices y matrices multidimensionales.\n",
    "* Pandas: \n",
    "* Re: Este módulo proporciona operaciones de coincidencia de expresiones regulares\n",
    "* Geopandas:\n",
    "* Seaborn:\n",
    "* Missingno: es una librería de Pÿthon, compatible con Pandas, que ofrece una buena y simple forma de visualizar la distribución de valores Nan (Not a Number)\n",
    "* Matplotlib: es una biblioteca para la generación de gráficos a partir de datos contenidos en listas o arrays de Python y su extensión matemática NumPy."
   ]
  },
  {
   "cell_type": "code",
   "execution_count": 384,
   "metadata": {},
   "outputs": [],
   "source": [
    "pd.options.display.float_format='{:,.2f}'.format"
   ]
  },
  {
   "cell_type": "markdown",
   "metadata": {},
   "source": [
    "## 2. Procesamiento de los datos.\n"
   ]
  },
  {
   "cell_type": "markdown",
   "metadata": {},
   "source": [
    "### 2.1. Importación del dataset."
   ]
  },
  {
   "cell_type": "code",
   "execution_count": 385,
   "metadata": {},
   "outputs": [],
   "source": [
    "#Importatemos el dataset original de Properatti, creando un Dataframe.\n",
    "\n",
    "data_location = \"Data/properatti.csv\"\n",
    "\n",
    "original_data = pd.read_csv(data_location, sep=\",\", encoding=\"UTF-8\")\n"
   ]
  },
  {
   "cell_type": "markdown",
   "metadata": {},
   "source": [
    "### 2.2 Exploración del dataset.\n",
    "\n",
    "Exploramos el data set, obteniendo un primer acercamiento de sus métricas:"
   ]
  },
  {
   "cell_type": "code",
   "execution_count": 386,
   "metadata": {},
   "outputs": [
    {
     "data": {
      "text/plain": [
       "(121220, 26)"
      ]
     },
     "execution_count": 386,
     "metadata": {},
     "output_type": "execute_result"
    }
   ],
   "source": [
    "#Mostramos la composición de filas y columnas del dataset, en forma de tupla (filas,columnas).\n",
    "\n",
    "original_data.shape\n"
   ]
  },
  {
   "cell_type": "code",
   "execution_count": 387,
   "metadata": {},
   "outputs": [
    {
     "data": {
      "text/plain": [
       "Index(['Unnamed: 0', 'operation', 'property_type', 'place_name',\n",
       "       'place_with_parent_names', 'country_name', 'state_name', 'geonames_id',\n",
       "       'lat-lon', 'lat', 'lon', 'price', 'currency',\n",
       "       'price_aprox_local_currency', 'price_aprox_usd', 'surface_total_in_m2',\n",
       "       'surface_covered_in_m2', 'price_usd_per_m2', 'price_per_m2', 'floor',\n",
       "       'rooms', 'expenses', 'properati_url', 'description', 'title',\n",
       "       'image_thumbnail'],\n",
       "      dtype='object')"
      ]
     },
     "execution_count": 387,
     "metadata": {},
     "output_type": "execute_result"
    }
   ],
   "source": [
    "# A continuación, veremos cu+ales son las columnas que presenta:\n",
    "    \n",
    "original_data.columns"
   ]
  },
  {
   "cell_type": "code",
   "execution_count": 388,
   "metadata": {},
   "outputs": [
    {
     "data": {
      "text/html": [
       "<div>\n",
       "<style scoped>\n",
       "    .dataframe tbody tr th:only-of-type {\n",
       "        vertical-align: middle;\n",
       "    }\n",
       "\n",
       "    .dataframe tbody tr th {\n",
       "        vertical-align: top;\n",
       "    }\n",
       "\n",
       "    .dataframe thead th {\n",
       "        text-align: right;\n",
       "    }\n",
       "</style>\n",
       "<table border=\"1\" class=\"dataframe\">\n",
       "  <thead>\n",
       "    <tr style=\"text-align: right;\">\n",
       "      <th></th>\n",
       "      <th>Unnamed: 0</th>\n",
       "      <th>operation</th>\n",
       "      <th>property_type</th>\n",
       "      <th>place_name</th>\n",
       "      <th>place_with_parent_names</th>\n",
       "      <th>country_name</th>\n",
       "      <th>state_name</th>\n",
       "      <th>geonames_id</th>\n",
       "      <th>lat-lon</th>\n",
       "      <th>lat</th>\n",
       "      <th>...</th>\n",
       "      <th>surface_covered_in_m2</th>\n",
       "      <th>price_usd_per_m2</th>\n",
       "      <th>price_per_m2</th>\n",
       "      <th>floor</th>\n",
       "      <th>rooms</th>\n",
       "      <th>expenses</th>\n",
       "      <th>properati_url</th>\n",
       "      <th>description</th>\n",
       "      <th>title</th>\n",
       "      <th>image_thumbnail</th>\n",
       "    </tr>\n",
       "  </thead>\n",
       "  <tbody>\n",
       "    <tr>\n",
       "      <th>0</th>\n",
       "      <td>0</td>\n",
       "      <td>sell</td>\n",
       "      <td>PH</td>\n",
       "      <td>Mataderos</td>\n",
       "      <td>|Argentina|Capital Federal|Mataderos|</td>\n",
       "      <td>Argentina</td>\n",
       "      <td>Capital Federal</td>\n",
       "      <td>3,430,787.00</td>\n",
       "      <td>-34.6618237,-58.5088387</td>\n",
       "      <td>-34.66</td>\n",
       "      <td>...</td>\n",
       "      <td>40.00</td>\n",
       "      <td>1,127.27</td>\n",
       "      <td>1,550.00</td>\n",
       "      <td>nan</td>\n",
       "      <td>nan</td>\n",
       "      <td>nan</td>\n",
       "      <td>http://www.properati.com.ar/15bo8_venta_ph_mat...</td>\n",
       "      <td>2 AMBIENTES TIPO CASA PLANTA BAJA POR PASILLO,...</td>\n",
       "      <td>2 AMB TIPO CASA SIN EXPENSAS EN PB</td>\n",
       "      <td>https://thumbs4.properati.com/8/BluUYiHJLhgIIK...</td>\n",
       "    </tr>\n",
       "    <tr>\n",
       "      <th>1</th>\n",
       "      <td>1</td>\n",
       "      <td>sell</td>\n",
       "      <td>apartment</td>\n",
       "      <td>La Plata</td>\n",
       "      <td>|Argentina|Bs.As. G.B.A. Zona Sur|La Plata|</td>\n",
       "      <td>Argentina</td>\n",
       "      <td>Bs.As. G.B.A. Zona Sur</td>\n",
       "      <td>3,432,039.00</td>\n",
       "      <td>-34.9038831,-57.9643295</td>\n",
       "      <td>-34.90</td>\n",
       "      <td>...</td>\n",
       "      <td>nan</td>\n",
       "      <td>nan</td>\n",
       "      <td>nan</td>\n",
       "      <td>nan</td>\n",
       "      <td>nan</td>\n",
       "      <td>nan</td>\n",
       "      <td>http://www.properati.com.ar/15bob_venta_depart...</td>\n",
       "      <td>Venta de departamento en décimo piso al frente...</td>\n",
       "      <td>VENTA Depto 2 dorm. a estrenar 7 e/ 36 y 37   ...</td>\n",
       "      <td>https://thumbs4.properati.com/7/ikpVBu2ztHA7jv...</td>\n",
       "    </tr>\n",
       "    <tr>\n",
       "      <th>2</th>\n",
       "      <td>2</td>\n",
       "      <td>sell</td>\n",
       "      <td>apartment</td>\n",
       "      <td>Mataderos</td>\n",
       "      <td>|Argentina|Capital Federal|Mataderos|</td>\n",
       "      <td>Argentina</td>\n",
       "      <td>Capital Federal</td>\n",
       "      <td>3,430,787.00</td>\n",
       "      <td>-34.6522615,-58.5229825</td>\n",
       "      <td>-34.65</td>\n",
       "      <td>...</td>\n",
       "      <td>55.00</td>\n",
       "      <td>1,309.09</td>\n",
       "      <td>1,309.09</td>\n",
       "      <td>nan</td>\n",
       "      <td>nan</td>\n",
       "      <td>nan</td>\n",
       "      <td>http://www.properati.com.ar/15bod_venta_depart...</td>\n",
       "      <td>2 AMBIENTES 3ER PISO LATERAL LIVING COMEDOR AM...</td>\n",
       "      <td>2 AMB 3ER PISO CON ASCENSOR APTO CREDITO</td>\n",
       "      <td>https://thumbs4.properati.com/5/SXKr34F_IwG3W_...</td>\n",
       "    </tr>\n",
       "    <tr>\n",
       "      <th>3</th>\n",
       "      <td>3</td>\n",
       "      <td>sell</td>\n",
       "      <td>PH</td>\n",
       "      <td>Liniers</td>\n",
       "      <td>|Argentina|Capital Federal|Liniers|</td>\n",
       "      <td>Argentina</td>\n",
       "      <td>Capital Federal</td>\n",
       "      <td>3,431,333.00</td>\n",
       "      <td>-34.6477969,-58.5164244</td>\n",
       "      <td>-34.65</td>\n",
       "      <td>...</td>\n",
       "      <td>nan</td>\n",
       "      <td>nan</td>\n",
       "      <td>nan</td>\n",
       "      <td>nan</td>\n",
       "      <td>nan</td>\n",
       "      <td>nan</td>\n",
       "      <td>http://www.properati.com.ar/15boh_venta_ph_lin...</td>\n",
       "      <td>PH 3 ambientes con patio. Hay 3 deptos en lote...</td>\n",
       "      <td>PH 3 amb. cfte. reciclado</td>\n",
       "      <td>https://thumbs4.properati.com/3/DgIfX-85Mog5SP...</td>\n",
       "    </tr>\n",
       "    <tr>\n",
       "      <th>4</th>\n",
       "      <td>4</td>\n",
       "      <td>sell</td>\n",
       "      <td>apartment</td>\n",
       "      <td>Centro</td>\n",
       "      <td>|Argentina|Buenos Aires Costa Atlántica|Mar de...</td>\n",
       "      <td>Argentina</td>\n",
       "      <td>Buenos Aires Costa Atlántica</td>\n",
       "      <td>3,435,548.00</td>\n",
       "      <td>-38.0026256,-57.5494468</td>\n",
       "      <td>-38.00</td>\n",
       "      <td>...</td>\n",
       "      <td>35.00</td>\n",
       "      <td>1,828.57</td>\n",
       "      <td>1,828.57</td>\n",
       "      <td>nan</td>\n",
       "      <td>nan</td>\n",
       "      <td>nan</td>\n",
       "      <td>http://www.properati.com.ar/15bok_venta_depart...</td>\n",
       "      <td>DEPARTAMENTO CON FANTÁSTICA ILUMINACIÓN NATURA...</td>\n",
       "      <td>DEPTO 2 AMB AL CONTRAFRENTE ZONA CENTRO/PLAZA ...</td>\n",
       "      <td>https://thumbs4.properati.com/5/xrRqlNcSI_vs-f...</td>\n",
       "    </tr>\n",
       "  </tbody>\n",
       "</table>\n",
       "<p>5 rows × 26 columns</p>\n",
       "</div>"
      ],
      "text/plain": [
       "   Unnamed: 0 operation property_type place_name  \\\n",
       "0           0      sell            PH  Mataderos   \n",
       "1           1      sell     apartment   La Plata   \n",
       "2           2      sell     apartment  Mataderos   \n",
       "3           3      sell            PH    Liniers   \n",
       "4           4      sell     apartment     Centro   \n",
       "\n",
       "                             place_with_parent_names country_name  \\\n",
       "0              |Argentina|Capital Federal|Mataderos|    Argentina   \n",
       "1        |Argentina|Bs.As. G.B.A. Zona Sur|La Plata|    Argentina   \n",
       "2              |Argentina|Capital Federal|Mataderos|    Argentina   \n",
       "3                |Argentina|Capital Federal|Liniers|    Argentina   \n",
       "4  |Argentina|Buenos Aires Costa Atlántica|Mar de...    Argentina   \n",
       "\n",
       "                     state_name  geonames_id                  lat-lon    lat  \\\n",
       "0               Capital Federal 3,430,787.00  -34.6618237,-58.5088387 -34.66   \n",
       "1        Bs.As. G.B.A. Zona Sur 3,432,039.00  -34.9038831,-57.9643295 -34.90   \n",
       "2               Capital Federal 3,430,787.00  -34.6522615,-58.5229825 -34.65   \n",
       "3               Capital Federal 3,431,333.00  -34.6477969,-58.5164244 -34.65   \n",
       "4  Buenos Aires Costa Atlántica 3,435,548.00  -38.0026256,-57.5494468 -38.00   \n",
       "\n",
       "   ...  surface_covered_in_m2  price_usd_per_m2 price_per_m2  floor  rooms  \\\n",
       "0  ...                  40.00          1,127.27     1,550.00    nan    nan   \n",
       "1  ...                    nan               nan          nan    nan    nan   \n",
       "2  ...                  55.00          1,309.09     1,309.09    nan    nan   \n",
       "3  ...                    nan               nan          nan    nan    nan   \n",
       "4  ...                  35.00          1,828.57     1,828.57    nan    nan   \n",
       "\n",
       "   expenses                                      properati_url  \\\n",
       "0       nan  http://www.properati.com.ar/15bo8_venta_ph_mat...   \n",
       "1       nan  http://www.properati.com.ar/15bob_venta_depart...   \n",
       "2       nan  http://www.properati.com.ar/15bod_venta_depart...   \n",
       "3       nan  http://www.properati.com.ar/15boh_venta_ph_lin...   \n",
       "4       nan  http://www.properati.com.ar/15bok_venta_depart...   \n",
       "\n",
       "                                         description  \\\n",
       "0  2 AMBIENTES TIPO CASA PLANTA BAJA POR PASILLO,...   \n",
       "1  Venta de departamento en décimo piso al frente...   \n",
       "2  2 AMBIENTES 3ER PISO LATERAL LIVING COMEDOR AM...   \n",
       "3  PH 3 ambientes con patio. Hay 3 deptos en lote...   \n",
       "4  DEPARTAMENTO CON FANTÁSTICA ILUMINACIÓN NATURA...   \n",
       "\n",
       "                                               title  \\\n",
       "0                 2 AMB TIPO CASA SIN EXPENSAS EN PB   \n",
       "1  VENTA Depto 2 dorm. a estrenar 7 e/ 36 y 37   ...   \n",
       "2           2 AMB 3ER PISO CON ASCENSOR APTO CREDITO   \n",
       "3                       PH 3 amb. cfte. reciclado      \n",
       "4  DEPTO 2 AMB AL CONTRAFRENTE ZONA CENTRO/PLAZA ...   \n",
       "\n",
       "                                     image_thumbnail  \n",
       "0  https://thumbs4.properati.com/8/BluUYiHJLhgIIK...  \n",
       "1  https://thumbs4.properati.com/7/ikpVBu2ztHA7jv...  \n",
       "2  https://thumbs4.properati.com/5/SXKr34F_IwG3W_...  \n",
       "3  https://thumbs4.properati.com/3/DgIfX-85Mog5SP...  \n",
       "4  https://thumbs4.properati.com/5/xrRqlNcSI_vs-f...  \n",
       "\n",
       "[5 rows x 26 columns]"
      ]
     },
     "execution_count": 388,
     "metadata": {},
     "output_type": "execute_result"
    }
   ],
   "source": [
    "#Mostramos los primeros 5 registros del data set:\n",
    "\n",
    "original_data.head(5)"
   ]
  },
  {
   "cell_type": "code",
   "execution_count": 389,
   "metadata": {},
   "outputs": [
    {
     "name": "stdout",
     "output_type": "stream",
     "text": [
      "<class 'pandas.core.frame.DataFrame'>\n",
      "RangeIndex: 121220 entries, 0 to 121219\n",
      "Data columns (total 26 columns):\n",
      " #   Column                      Non-Null Count   Dtype  \n",
      "---  ------                      --------------   -----  \n",
      " 0   Unnamed: 0                  121220 non-null  int64  \n",
      " 1   operation                   121220 non-null  object \n",
      " 2   property_type               121220 non-null  object \n",
      " 3   place_name                  121197 non-null  object \n",
      " 4   place_with_parent_names     121220 non-null  object \n",
      " 5   country_name                121220 non-null  object \n",
      " 6   state_name                  121220 non-null  object \n",
      " 7   geonames_id                 102503 non-null  float64\n",
      " 8   lat-lon                     69670 non-null   object \n",
      " 9   lat                         69670 non-null   float64\n",
      " 10  lon                         69670 non-null   float64\n",
      " 11  price                       100810 non-null  float64\n",
      " 12  currency                    100809 non-null  object \n",
      " 13  price_aprox_local_currency  100810 non-null  float64\n",
      " 14  price_aprox_usd             100810 non-null  float64\n",
      " 15  surface_total_in_m2         81892 non-null   float64\n",
      " 16  surface_covered_in_m2       101313 non-null  float64\n",
      " 17  price_usd_per_m2            68617 non-null   float64\n",
      " 18  price_per_m2                87658 non-null   float64\n",
      " 19  floor                       7899 non-null    float64\n",
      " 20  rooms                       47390 non-null   float64\n",
      " 21  expenses                    14262 non-null   float64\n",
      " 22  properati_url               121220 non-null  object \n",
      " 23  description                 121218 non-null  object \n",
      " 24  title                       121220 non-null  object \n",
      " 25  image_thumbnail             118108 non-null  object \n",
      "dtypes: float64(13), int64(1), object(12)\n",
      "memory usage: 24.0+ MB\n"
     ]
    }
   ],
   "source": [
    "# Presentamos un resumen conciso de la estructura del dataset, incluyendo el tipo de datos de cada columna, cantidad de valores no nulos y el uso de memoria:\n",
    "\n",
    "original_data.info()\n"
   ]
  },
  {
   "cell_type": "code",
   "execution_count": 390,
   "metadata": {},
   "outputs": [
    {
     "data": {
      "text/html": [
       "<div>\n",
       "<style scoped>\n",
       "    .dataframe tbody tr th:only-of-type {\n",
       "        vertical-align: middle;\n",
       "    }\n",
       "\n",
       "    .dataframe tbody tr th {\n",
       "        vertical-align: top;\n",
       "    }\n",
       "\n",
       "    .dataframe thead th {\n",
       "        text-align: right;\n",
       "    }\n",
       "</style>\n",
       "<table border=\"1\" class=\"dataframe\">\n",
       "  <thead>\n",
       "    <tr style=\"text-align: right;\">\n",
       "      <th></th>\n",
       "      <th>Unnamed: 0</th>\n",
       "      <th>geonames_id</th>\n",
       "      <th>lat</th>\n",
       "      <th>lon</th>\n",
       "      <th>price</th>\n",
       "      <th>price_aprox_local_currency</th>\n",
       "      <th>price_aprox_usd</th>\n",
       "      <th>surface_total_in_m2</th>\n",
       "      <th>surface_covered_in_m2</th>\n",
       "      <th>price_usd_per_m2</th>\n",
       "      <th>price_per_m2</th>\n",
       "      <th>floor</th>\n",
       "      <th>rooms</th>\n",
       "      <th>expenses</th>\n",
       "    </tr>\n",
       "  </thead>\n",
       "  <tbody>\n",
       "    <tr>\n",
       "      <th>count</th>\n",
       "      <td>121,220.00</td>\n",
       "      <td>102,503.00</td>\n",
       "      <td>69,670.00</td>\n",
       "      <td>69,670.00</td>\n",
       "      <td>100,810.00</td>\n",
       "      <td>100,810.00</td>\n",
       "      <td>100,810.00</td>\n",
       "      <td>81,892.00</td>\n",
       "      <td>101,313.00</td>\n",
       "      <td>68,617.00</td>\n",
       "      <td>87,658.00</td>\n",
       "      <td>7,899.00</td>\n",
       "      <td>47,390.00</td>\n",
       "      <td>14,262.00</td>\n",
       "    </tr>\n",
       "    <tr>\n",
       "      <th>mean</th>\n",
       "      <td>60,609.50</td>\n",
       "      <td>3,574,442.32</td>\n",
       "      <td>-34.63</td>\n",
       "      <td>-59.27</td>\n",
       "      <td>468,525.93</td>\n",
       "      <td>4,229,396.83</td>\n",
       "      <td>239,700.58</td>\n",
       "      <td>233.80</td>\n",
       "      <td>133.05</td>\n",
       "      <td>2,160.09</td>\n",
       "      <td>6,912.22</td>\n",
       "      <td>17.45</td>\n",
       "      <td>3.08</td>\n",
       "      <td>5,009.23</td>\n",
       "    </tr>\n",
       "    <tr>\n",
       "      <th>std</th>\n",
       "      <td>34,993.34</td>\n",
       "      <td>354,130.62</td>\n",
       "      <td>1.98</td>\n",
       "      <td>2.30</td>\n",
       "      <td>2,260,100.59</td>\n",
       "      <td>6,904,714.13</td>\n",
       "      <td>391,323.88</td>\n",
       "      <td>1,782.22</td>\n",
       "      <td>724.35</td>\n",
       "      <td>2,759.29</td>\n",
       "      <td>28,378.64</td>\n",
       "      <td>120.24</td>\n",
       "      <td>1.86</td>\n",
       "      <td>120,440.26</td>\n",
       "    </tr>\n",
       "    <tr>\n",
       "      <th>min</th>\n",
       "      <td>0.00</td>\n",
       "      <td>3,427,208.00</td>\n",
       "      <td>-54.82</td>\n",
       "      <td>-75.68</td>\n",
       "      <td>0.00</td>\n",
       "      <td>0.00</td>\n",
       "      <td>0.00</td>\n",
       "      <td>0.00</td>\n",
       "      <td>0.00</td>\n",
       "      <td>0.60</td>\n",
       "      <td>1.51</td>\n",
       "      <td>1.00</td>\n",
       "      <td>1.00</td>\n",
       "      <td>1.00</td>\n",
       "    </tr>\n",
       "    <tr>\n",
       "      <th>25%</th>\n",
       "      <td>30,304.75</td>\n",
       "      <td>3,430,234.00</td>\n",
       "      <td>-34.67</td>\n",
       "      <td>-58.73</td>\n",
       "      <td>110,000.00</td>\n",
       "      <td>1,583,309.44</td>\n",
       "      <td>89,733.88</td>\n",
       "      <td>50.00</td>\n",
       "      <td>45.00</td>\n",
       "      <td>1,218.18</td>\n",
       "      <td>1,550.00</td>\n",
       "      <td>1.00</td>\n",
       "      <td>2.00</td>\n",
       "      <td>1,000.00</td>\n",
       "    </tr>\n",
       "    <tr>\n",
       "      <th>50%</th>\n",
       "      <td>60,609.50</td>\n",
       "      <td>3,433,910.00</td>\n",
       "      <td>-34.60</td>\n",
       "      <td>-58.48</td>\n",
       "      <td>185,000.00</td>\n",
       "      <td>2,558,452.50</td>\n",
       "      <td>145,000.00</td>\n",
       "      <td>84.00</td>\n",
       "      <td>75.00</td>\n",
       "      <td>1,800.00</td>\n",
       "      <td>2,213.11</td>\n",
       "      <td>3.00</td>\n",
       "      <td>3.00</td>\n",
       "      <td>2,000.00</td>\n",
       "    </tr>\n",
       "    <tr>\n",
       "      <th>75%</th>\n",
       "      <td>90,914.25</td>\n",
       "      <td>3,836,668.00</td>\n",
       "      <td>-34.44</td>\n",
       "      <td>-58.40</td>\n",
       "      <td>420,000.00</td>\n",
       "      <td>4,675,792.50</td>\n",
       "      <td>265,000.00</td>\n",
       "      <td>200.00</td>\n",
       "      <td>150.00</td>\n",
       "      <td>2,486.41</td>\n",
       "      <td>3,355.55</td>\n",
       "      <td>6.00</td>\n",
       "      <td>4.00</td>\n",
       "      <td>4,000.00</td>\n",
       "    </tr>\n",
       "    <tr>\n",
       "      <th>max</th>\n",
       "      <td>121,219.00</td>\n",
       "      <td>6,948,895.00</td>\n",
       "      <td>4.55</td>\n",
       "      <td>-53.73</td>\n",
       "      <td>650,000,000.00</td>\n",
       "      <td>821,271,104.30</td>\n",
       "      <td>46,545,445.00</td>\n",
       "      <td>200,000.00</td>\n",
       "      <td>187,000.00</td>\n",
       "      <td>206,333.33</td>\n",
       "      <td>3,999,999.96</td>\n",
       "      <td>3,150.00</td>\n",
       "      <td>32.00</td>\n",
       "      <td>10,001,500.00</td>\n",
       "    </tr>\n",
       "  </tbody>\n",
       "</table>\n",
       "</div>"
      ],
      "text/plain": [
       "       Unnamed: 0  geonames_id       lat       lon          price  \\\n",
       "count  121,220.00   102,503.00 69,670.00 69,670.00     100,810.00   \n",
       "mean    60,609.50 3,574,442.32    -34.63    -59.27     468,525.93   \n",
       "std     34,993.34   354,130.62      1.98      2.30   2,260,100.59   \n",
       "min          0.00 3,427,208.00    -54.82    -75.68           0.00   \n",
       "25%     30,304.75 3,430,234.00    -34.67    -58.73     110,000.00   \n",
       "50%     60,609.50 3,433,910.00    -34.60    -58.48     185,000.00   \n",
       "75%     90,914.25 3,836,668.00    -34.44    -58.40     420,000.00   \n",
       "max    121,219.00 6,948,895.00      4.55    -53.73 650,000,000.00   \n",
       "\n",
       "       price_aprox_local_currency  price_aprox_usd  surface_total_in_m2  \\\n",
       "count                  100,810.00       100,810.00            81,892.00   \n",
       "mean                 4,229,396.83       239,700.58               233.80   \n",
       "std                  6,904,714.13       391,323.88             1,782.22   \n",
       "min                          0.00             0.00                 0.00   \n",
       "25%                  1,583,309.44        89,733.88                50.00   \n",
       "50%                  2,558,452.50       145,000.00                84.00   \n",
       "75%                  4,675,792.50       265,000.00               200.00   \n",
       "max                821,271,104.30    46,545,445.00           200,000.00   \n",
       "\n",
       "       surface_covered_in_m2  price_usd_per_m2  price_per_m2    floor  \\\n",
       "count             101,313.00         68,617.00     87,658.00 7,899.00   \n",
       "mean                  133.05          2,160.09      6,912.22    17.45   \n",
       "std                   724.35          2,759.29     28,378.64   120.24   \n",
       "min                     0.00              0.60          1.51     1.00   \n",
       "25%                    45.00          1,218.18      1,550.00     1.00   \n",
       "50%                    75.00          1,800.00      2,213.11     3.00   \n",
       "75%                   150.00          2,486.41      3,355.55     6.00   \n",
       "max               187,000.00        206,333.33  3,999,999.96 3,150.00   \n",
       "\n",
       "          rooms      expenses  \n",
       "count 47,390.00     14,262.00  \n",
       "mean       3.08      5,009.23  \n",
       "std        1.86    120,440.26  \n",
       "min        1.00          1.00  \n",
       "25%        2.00      1,000.00  \n",
       "50%        3.00      2,000.00  \n",
       "75%        4.00      4,000.00  \n",
       "max       32.00 10,001,500.00  "
      ]
     },
     "execution_count": 390,
     "metadata": {},
     "output_type": "execute_result"
    }
   ],
   "source": [
    "#Generamos estadísticas descriptivas del dataset. Las estadísticas descriptivas incluyen aquellas que resumen la\n",
    "#tendencia central, la dispersión y la forma de la distribución de un conjunto de datos, excluyendo valores NaN.\n",
    "\n",
    "original_data.describe()\n"
   ]
  },
  {
   "cell_type": "markdown",
   "metadata": {},
   "source": [
    "#### 2.2.1. Analizamos proporción de valores NaN del dataset."
   ]
  },
  {
   "cell_type": "code",
   "execution_count": 391,
   "metadata": {},
   "outputs": [],
   "source": [
    "#Definimos una función que nos calcule el porcentaje de valores nulos para poder reutilizarla.\n",
    "\n",
    "def get_null(df):\n",
    "    missing_values_sum = df.isnull().sum()\n",
    "    missing_values_percent = df.isnull().mean()*100\n",
    "    return missing_values_percent\n"
   ]
  },
  {
   "cell_type": "code",
   "execution_count": 392,
   "metadata": {},
   "outputs": [
    {
     "data": {
      "text/plain": [
       "Unnamed: 0                    0.00\n",
       "operation                     0.00\n",
       "property_type                 0.00\n",
       "place_name                    0.02\n",
       "place_with_parent_names       0.00\n",
       "country_name                  0.00\n",
       "state_name                    0.00\n",
       "geonames_id                  15.44\n",
       "lat-lon                      42.53\n",
       "lat                          42.53\n",
       "lon                          42.53\n",
       "price                        16.84\n",
       "currency                     16.84\n",
       "price_aprox_local_currency   16.84\n",
       "price_aprox_usd              16.84\n",
       "surface_total_in_m2          32.44\n",
       "surface_covered_in_m2        16.42\n",
       "price_usd_per_m2             43.39\n",
       "price_per_m2                 27.69\n",
       "floor                        93.48\n",
       "rooms                        60.91\n",
       "expenses                     88.23\n",
       "properati_url                 0.00\n",
       "description                   0.00\n",
       "title                         0.00\n",
       "image_thumbnail               2.57\n",
       "dtype: float64"
      ]
     },
     "execution_count": 392,
     "metadata": {},
     "output_type": "execute_result"
    }
   ],
   "source": [
    "porcentaje_nulos = get_null(original_data)\n",
    "porcentaje_nulos"
   ]
  },
  {
   "cell_type": "code",
   "execution_count": 393,
   "metadata": {},
   "outputs": [
    {
     "data": {
      "text/plain": [
       "<AxesSubplot:>"
      ]
     },
     "execution_count": 393,
     "metadata": {},
     "output_type": "execute_result"
    },
    {
     "data": {
      "image/png": "[encoded data removed]",
      "text/plain": [
       "<Figure size 1800x720 with 3 Axes>"
      ]
     },
     "metadata": {
      "needs_background": "light"
     },
     "output_type": "display_data"
    }
   ],
   "source": [
    "#Graficamos de forma comparativa la densidad de datos de cada columna, utilizando un gráfico de barras.\n",
    "\n",
    "msno.bar(original_data)"
   ]
  },
  {
   "cell_type": "code",
   "execution_count": 394,
   "metadata": {},
   "outputs": [
    {
     "data": {
      "text/plain": [
       "<AxesSubplot:>"
      ]
     },
     "execution_count": 394,
     "metadata": {},
     "output_type": "execute_result"
    },
    {
     "data": {
      "image/png": "[encoded data removed]",
      "text/plain": [
       "<Figure size 1800x720 with 2 Axes>"
      ]
     },
     "metadata": {
      "needs_background": "light"
     },
     "output_type": "display_data"
    }
   ],
   "source": [
    "# Ahora aprovechamos la visualización registro a registro que nos proporciona el gráfico de matriz.\n",
    "\n",
    "msno.matrix(original_data)"
   ]
  },
  {
   "cell_type": "markdown",
   "metadata": {},
   "source": [
    "## 3. Limpieza de datos."
   ]
  },
  {
   "cell_type": "markdown",
   "metadata": {},
   "source": [
    "### 3.1. Eliminación de registros por densidad de la provincia o localidad a la que corresponden."
   ]
  },
  {
   "cell_type": "markdown",
   "metadata": {},
   "source": [
    "Atento a que el datset contiene un total de 121.220 registros, analizaremos si es posible descartar, en primer lugar, aquellos que pertenezcan a\n",
    "provincias o localidades que no tengan un % representativo de instancias dentro del total.\n",
    "Para esto, haremos uso de la columna 'state_name'.\n",
    "En primer lugar, mostraremos la densidad de cada estado."
   ]
  },
  {
   "cell_type": "code",
   "execution_count": 395,
   "metadata": {},
   "outputs": [
    {
     "name": "stdout",
     "output_type": "stream",
     "text": [
      "                          state_name    lat    lon\n",
      "0                    Capital Federal -34.66 -58.51\n",
      "1             Bs.As. G.B.A. Zona Sur -34.90 -57.96\n",
      "2                    Capital Federal -34.65 -58.52\n",
      "3                    Capital Federal -34.65 -58.52\n",
      "4       Buenos Aires Costa Atlántica -38.00 -57.55\n",
      "...                              ...    ...    ...\n",
      "121215               Capital Federal    nan    nan\n",
      "121216      Bs.As. G.B.A. Zona Norte    nan    nan\n",
      "121217               Capital Federal -34.57 -58.48\n",
      "121218  Buenos Aires Costa Atlántica    nan    nan\n",
      "121219               Capital Federal    nan    nan\n",
      "\n",
      "[121220 rows x 3 columns]\n"
     ]
    }
   ],
   "source": [
    "dg = original_data.loc[:, ['state_name', 'lat',\"lon\"]]\n",
    "print (dg)"
   ]
  },
  {
   "cell_type": "code",
   "execution_count": 396,
   "metadata": {},
   "outputs": [
    {
     "name": "stdout",
     "output_type": "stream",
     "text": [
      "                          state_name    lat    lon  \\\n",
      "0                    Capital Federal -34.66 -58.51   \n",
      "1             Bs.As. G.B.A. Zona Sur -34.90 -57.96   \n",
      "2                    Capital Federal -34.65 -58.52   \n",
      "3                    Capital Federal -34.65 -58.52   \n",
      "4       Buenos Aires Costa Atlántica -38.00 -57.55   \n",
      "...                              ...    ...    ...   \n",
      "121215               Capital Federal    nan    nan   \n",
      "121216      Bs.As. G.B.A. Zona Norte    nan    nan   \n",
      "121217               Capital Federal -34.57 -58.48   \n",
      "121218  Buenos Aires Costa Atlántica    nan    nan   \n",
      "121219               Capital Federal    nan    nan   \n",
      "\n",
      "                           geometry  \n",
      "0       POINT (-58.50884 -34.66182)  \n",
      "1       POINT (-57.96433 -34.90388)  \n",
      "2       POINT (-58.52298 -34.65226)  \n",
      "3       POINT (-58.51642 -34.64780)  \n",
      "4       POINT (-57.54945 -38.00263)  \n",
      "...                             ...  \n",
      "121215              POINT (nan nan)  \n",
      "121216              POINT (nan nan)  \n",
      "121217  POINT (-58.47560 -34.57064)  \n",
      "121218              POINT (nan nan)  \n",
      "121219              POINT (nan nan)  \n",
      "\n",
      "[121220 rows x 4 columns]\n"
     ]
    }
   ],
   "source": [
    "geodg = gpd.GeoDataFrame(dg, geometry=gpd.points_from_xy(dg.lon, dg.lat))\n",
    "print (geodg)"
   ]
  },
  {
   "cell_type": "code",
   "execution_count": 397,
   "metadata": {},
   "outputs": [
    {
     "name": "stdout",
     "output_type": "stream",
     "text": [
      "    pop_est      continent       name iso_a3  gdp_md_est  \\\n",
      "9  44293293  South America  Argentina    ARG  879,400.00   \n",
      "\n",
      "                                            geometry  \n",
      "9  MULTIPOLYGON (((-68.63401 -52.63637, -68.25000...  \n"
     ]
    }
   ],
   "source": [
    "world = gpd.read_file(gpd.datasets.get_path('naturalearth_lowres'))\n",
    "geoarg = world[world.name=='Argentina']\n",
    "print (geoarg)"
   ]
  },
  {
   "cell_type": "code",
   "execution_count": 398,
   "metadata": {},
   "outputs": [],
   "source": [
    "def graficar(p_ciudad, p_pais):\n",
    "    \n",
    "    ax = p_pais.plot(figsize=(9,12), color='white', edgecolor='black')\n",
    "\n",
    "    p_ciudad.plot(ax=ax, color='red', alpha= 0.4)\n",
    "\n",
    "plt.show()"
   ]
  },
  {
   "cell_type": "code",
   "execution_count": 399,
   "metadata": {},
   "outputs": [
    {
     "data": {
      "image/png": "[encoded data removed]",
      "text/plain": [
       "<Figure size 648x864 with 1 Axes>"
      ]
     },
     "metadata": {
      "needs_background": "light"
     },
     "output_type": "display_data"
    }
   ],
   "source": [
    "graficar (geodg, geoarg)"
   ]
  },
  {
   "cell_type": "markdown",
   "metadata": {},
   "source": [
    "Como podemos ver ya a partir de nuestro mapa, la mayor concentración de observaciones se encuentra en la región central del país, especialmente en Buenos Aires, Córdoba y Santa Fe."
   ]
  },
  {
   "cell_type": "markdown",
   "metadata": {},
   "source": [
    "A continuación, haremos los cálculos correspondientes para verificar si el gráfico se ajusta a la realidad de nuestro dataset y comenzar con el descarte."
   ]
  },
  {
   "cell_type": "code",
   "execution_count": 400,
   "metadata": {},
   "outputs": [
    {
     "data": {
      "text/html": [
       "<div>\n",
       "<style scoped>\n",
       "    .dataframe tbody tr th:only-of-type {\n",
       "        vertical-align: middle;\n",
       "    }\n",
       "\n",
       "    .dataframe tbody tr th {\n",
       "        vertical-align: top;\n",
       "    }\n",
       "\n",
       "    .dataframe thead th {\n",
       "        text-align: right;\n",
       "    }\n",
       "</style>\n",
       "<table border=\"1\" class=\"dataframe\">\n",
       "  <thead>\n",
       "    <tr style=\"text-align: right;\">\n",
       "      <th></th>\n",
       "      <th>state_name</th>\n",
       "      <th>Total</th>\n",
       "    </tr>\n",
       "  </thead>\n",
       "  <tbody>\n",
       "    <tr>\n",
       "      <th>0</th>\n",
       "      <td>Bs.As. G.B.A. Zona Norte</td>\n",
       "      <td>25560</td>\n",
       "    </tr>\n",
       "    <tr>\n",
       "      <th>1</th>\n",
       "      <td>Bs.As. G.B.A. Zona Oeste</td>\n",
       "      <td>9322</td>\n",
       "    </tr>\n",
       "    <tr>\n",
       "      <th>2</th>\n",
       "      <td>Bs.As. G.B.A. Zona Sur</td>\n",
       "      <td>13952</td>\n",
       "    </tr>\n",
       "    <tr>\n",
       "      <th>3</th>\n",
       "      <td>Buenos Aires Costa Atlántica</td>\n",
       "      <td>10006</td>\n",
       "    </tr>\n",
       "    <tr>\n",
       "      <th>4</th>\n",
       "      <td>Buenos Aires Interior</td>\n",
       "      <td>2291</td>\n",
       "    </tr>\n",
       "    <tr>\n",
       "      <th>5</th>\n",
       "      <td>Capital Federal</td>\n",
       "      <td>32316</td>\n",
       "    </tr>\n",
       "    <tr>\n",
       "      <th>6</th>\n",
       "      <td>Catamarca</td>\n",
       "      <td>27</td>\n",
       "    </tr>\n",
       "    <tr>\n",
       "      <th>7</th>\n",
       "      <td>Chaco</td>\n",
       "      <td>57</td>\n",
       "    </tr>\n",
       "    <tr>\n",
       "      <th>8</th>\n",
       "      <td>Chubut</td>\n",
       "      <td>259</td>\n",
       "    </tr>\n",
       "    <tr>\n",
       "      <th>9</th>\n",
       "      <td>Corrientes</td>\n",
       "      <td>583</td>\n",
       "    </tr>\n",
       "    <tr>\n",
       "      <th>10</th>\n",
       "      <td>Córdoba</td>\n",
       "      <td>12069</td>\n",
       "    </tr>\n",
       "    <tr>\n",
       "      <th>11</th>\n",
       "      <td>Entre Ríos</td>\n",
       "      <td>369</td>\n",
       "    </tr>\n",
       "    <tr>\n",
       "      <th>12</th>\n",
       "      <td>Formosa</td>\n",
       "      <td>65</td>\n",
       "    </tr>\n",
       "    <tr>\n",
       "      <th>13</th>\n",
       "      <td>Jujuy</td>\n",
       "      <td>26</td>\n",
       "    </tr>\n",
       "    <tr>\n",
       "      <th>14</th>\n",
       "      <td>La Pampa</td>\n",
       "      <td>157</td>\n",
       "    </tr>\n",
       "    <tr>\n",
       "      <th>15</th>\n",
       "      <td>La Rioja</td>\n",
       "      <td>4</td>\n",
       "    </tr>\n",
       "    <tr>\n",
       "      <th>16</th>\n",
       "      <td>Mendoza</td>\n",
       "      <td>681</td>\n",
       "    </tr>\n",
       "    <tr>\n",
       "      <th>17</th>\n",
       "      <td>Misiones</td>\n",
       "      <td>464</td>\n",
       "    </tr>\n",
       "    <tr>\n",
       "      <th>18</th>\n",
       "      <td>Neuquén</td>\n",
       "      <td>733</td>\n",
       "    </tr>\n",
       "    <tr>\n",
       "      <th>19</th>\n",
       "      <td>Río Negro</td>\n",
       "      <td>808</td>\n",
       "    </tr>\n",
       "    <tr>\n",
       "      <th>20</th>\n",
       "      <td>Salta</td>\n",
       "      <td>278</td>\n",
       "    </tr>\n",
       "    <tr>\n",
       "      <th>21</th>\n",
       "      <td>San Juan</td>\n",
       "      <td>40</td>\n",
       "    </tr>\n",
       "    <tr>\n",
       "      <th>22</th>\n",
       "      <td>San Luis</td>\n",
       "      <td>252</td>\n",
       "    </tr>\n",
       "    <tr>\n",
       "      <th>23</th>\n",
       "      <td>Santa Cruz</td>\n",
       "      <td>20</td>\n",
       "    </tr>\n",
       "    <tr>\n",
       "      <th>24</th>\n",
       "      <td>Santa Fe</td>\n",
       "      <td>10172</td>\n",
       "    </tr>\n",
       "    <tr>\n",
       "      <th>25</th>\n",
       "      <td>Santiago Del Estero</td>\n",
       "      <td>4</td>\n",
       "    </tr>\n",
       "    <tr>\n",
       "      <th>26</th>\n",
       "      <td>Tierra Del Fuego</td>\n",
       "      <td>31</td>\n",
       "    </tr>\n",
       "    <tr>\n",
       "      <th>27</th>\n",
       "      <td>Tucumán</td>\n",
       "      <td>674</td>\n",
       "    </tr>\n",
       "  </tbody>\n",
       "</table>\n",
       "</div>"
      ],
      "text/plain": [
       "                      state_name  Total\n",
       "0       Bs.As. G.B.A. Zona Norte  25560\n",
       "1       Bs.As. G.B.A. Zona Oeste   9322\n",
       "2         Bs.As. G.B.A. Zona Sur  13952\n",
       "3   Buenos Aires Costa Atlántica  10006\n",
       "4          Buenos Aires Interior   2291\n",
       "5                Capital Federal  32316\n",
       "6                      Catamarca     27\n",
       "7                          Chaco     57\n",
       "8                         Chubut    259\n",
       "9                     Corrientes    583\n",
       "10                       Córdoba  12069\n",
       "11                    Entre Ríos    369\n",
       "12                       Formosa     65\n",
       "13                         Jujuy     26\n",
       "14                      La Pampa    157\n",
       "15                      La Rioja      4\n",
       "16                       Mendoza    681\n",
       "17                      Misiones    464\n",
       "18                       Neuquén    733\n",
       "19                     Río Negro    808\n",
       "20                         Salta    278\n",
       "21                      San Juan     40\n",
       "22                      San Luis    252\n",
       "23                    Santa Cruz     20\n",
       "24                      Santa Fe  10172\n",
       "25           Santiago Del Estero      4\n",
       "26              Tierra Del Fuego     31\n",
       "27                       Tucumán    674"
      ]
     },
     "execution_count": 400,
     "metadata": {},
     "output_type": "execute_result"
    }
   ],
   "source": [
    "#Mostraremos la cantidad de registros que hay de cada provincia o localidad, en una columna que llamaremos \"total\".\n",
    "\n",
    "data_agrupado = original_data.groupby(\"state_name\").size().reset_index(name=\"Total\")\n",
    "data_agrupado"
   ]
  },
  {
   "cell_type": "code",
   "execution_count": 401,
   "metadata": {},
   "outputs": [
    {
     "data": {
      "text/plain": [
       "Capital Federal                26.66\n",
       "Bs.As. G.B.A. Zona Norte       21.09\n",
       "Bs.As. G.B.A. Zona Sur         11.51\n",
       "Córdoba                         9.96\n",
       "Santa Fe                        8.39\n",
       "Buenos Aires Costa Atlántica    8.25\n",
       "Bs.As. G.B.A. Zona Oeste        7.69\n",
       "Buenos Aires Interior           1.89\n",
       "Río Negro                       0.67\n",
       "Neuquén                         0.60\n",
       "Mendoza                         0.56\n",
       "Tucumán                         0.56\n",
       "Corrientes                      0.48\n",
       "Misiones                        0.38\n",
       "Entre Ríos                      0.30\n",
       "Salta                           0.23\n",
       "Chubut                          0.21\n",
       "San Luis                        0.21\n",
       "La Pampa                        0.13\n",
       "Formosa                         0.05\n",
       "Chaco                           0.05\n",
       "San Juan                        0.03\n",
       "Tierra Del Fuego                0.03\n",
       "Catamarca                       0.02\n",
       "Jujuy                           0.02\n",
       "Santa Cruz                      0.02\n",
       "Santiago Del Estero             0.00\n",
       "La Rioja                        0.00\n",
       "Name: state_name, dtype: float64"
      ]
     },
     "execution_count": 401,
     "metadata": {},
     "output_type": "execute_result"
    }
   ],
   "source": [
    "#Calculamos la frecuencia en proporción al total:\n",
    "\n",
    "data_por_state = original_data[\"state_name\"]\n",
    "\n",
    "proportions = 100. * data_por_state.value_counts() / len(data_por_state)\n",
    "proportions"
   ]
  },
  {
   "cell_type": "markdown",
   "metadata": {},
   "source": [
    "Teniendo en cuenta los resultado obtenidos, hemos decidido conservar únicamente aquellas provincias o localidades que representen más del 7% del total.\n",
    "Es decir que eliminaremos aquellos registros que no correspondan a Capital Federal o Buenos Aires."
   ]
  },
  {
   "cell_type": "code",
   "execution_count": 402,
   "metadata": {},
   "outputs": [],
   "source": [
    "#Armaremos un nuevo dataset, aplicando el filtro recientemente descrito:\n",
    "\n",
    "freq_mask = proportions > 7\n",
    "final_states = proportions[freq_mask]\n",
    "\n",
    "states_list = list(final_states.index)"
   ]
  },
  {
   "cell_type": "code",
   "execution_count": 403,
   "metadata": {},
   "outputs": [
    {
     "name": "stdout",
     "output_type": "stream",
     "text": [
      "['Capital Federal', 'Bs.As. G.B.A. Zona Norte', 'Bs.As. G.B.A. Zona Sur', 'Córdoba', 'Santa Fe', 'Buenos Aires Costa Atlántica', 'Bs.As. G.B.A. Zona Oeste']\n"
     ]
    }
   ],
   "source": [
    "states_list\n",
    "print(states_list)"
   ]
  },
  {
   "cell_type": "code",
   "execution_count": 404,
   "metadata": {},
   "outputs": [
    {
     "data": {
      "text/html": [
       "<div>\n",
       "<style scoped>\n",
       "    .dataframe tbody tr th:only-of-type {\n",
       "        vertical-align: middle;\n",
       "    }\n",
       "\n",
       "    .dataframe tbody tr th {\n",
       "        vertical-align: top;\n",
       "    }\n",
       "\n",
       "    .dataframe thead th {\n",
       "        text-align: right;\n",
       "    }\n",
       "</style>\n",
       "<table border=\"1\" class=\"dataframe\">\n",
       "  <thead>\n",
       "    <tr style=\"text-align: right;\">\n",
       "      <th></th>\n",
       "      <th>Unnamed: 0</th>\n",
       "      <th>operation</th>\n",
       "      <th>property_type</th>\n",
       "      <th>place_name</th>\n",
       "      <th>place_with_parent_names</th>\n",
       "      <th>country_name</th>\n",
       "      <th>state_name</th>\n",
       "      <th>geonames_id</th>\n",
       "      <th>lat-lon</th>\n",
       "      <th>lat</th>\n",
       "      <th>...</th>\n",
       "      <th>surface_covered_in_m2</th>\n",
       "      <th>price_usd_per_m2</th>\n",
       "      <th>price_per_m2</th>\n",
       "      <th>floor</th>\n",
       "      <th>rooms</th>\n",
       "      <th>expenses</th>\n",
       "      <th>properati_url</th>\n",
       "      <th>description</th>\n",
       "      <th>title</th>\n",
       "      <th>image_thumbnail</th>\n",
       "    </tr>\n",
       "  </thead>\n",
       "  <tbody>\n",
       "    <tr>\n",
       "      <th>43040</th>\n",
       "      <td>43040</td>\n",
       "      <td>sell</td>\n",
       "      <td>house</td>\n",
       "      <td>San Isidro</td>\n",
       "      <td>|Argentina|Bs.As. G.B.A. Zona Norte|San Isidro|</td>\n",
       "      <td>Argentina</td>\n",
       "      <td>Bs.As. G.B.A. Zona Norte</td>\n",
       "      <td>3,428,983.00</td>\n",
       "      <td>-34.484496,-58.532992</td>\n",
       "      <td>-34.48</td>\n",
       "      <td>...</td>\n",
       "      <td>777.00</td>\n",
       "      <td>nan</td>\n",
       "      <td>1,930.50</td>\n",
       "      <td>nan</td>\n",
       "      <td>6.00</td>\n",
       "      <td>nan</td>\n",
       "      <td>http://www.properati.com.ar/18xk2_venta_casa_s...</td>\n",
       "      <td>Venta - Casa - Argentina, Buenos Aires, Zona N...</td>\n",
       "      <td>Casa en Venta ubicado en Lomas San Isidro</td>\n",
       "      <td>https://thumbs4.properati.com/2/IRwU_ftMnLHQmq...</td>\n",
       "    </tr>\n",
       "    <tr>\n",
       "      <th>5120</th>\n",
       "      <td>5120</td>\n",
       "      <td>sell</td>\n",
       "      <td>house</td>\n",
       "      <td>Córdoba</td>\n",
       "      <td>|Argentina|Córdoba|Córdoba|</td>\n",
       "      <td>Argentina</td>\n",
       "      <td>Córdoba</td>\n",
       "      <td>3,860,259.00</td>\n",
       "      <td>-31.2517617664,-64.2704869154</td>\n",
       "      <td>-31.25</td>\n",
       "      <td>...</td>\n",
       "      <td>170.00</td>\n",
       "      <td>343.14</td>\n",
       "      <td>1,029.41</td>\n",
       "      <td>nan</td>\n",
       "      <td>5.00</td>\n",
       "      <td>nan</td>\n",
       "      <td>http://www.properati.com.ar/15p3v_venta_casa_c...</td>\n",
       "      <td>HERMOSA CASA EN OBRA, SAN ALFONSO DEL TALAR, 3...</td>\n",
       "      <td>Hermosa casa en obra, SAN ALFONSO DEL TALAR , ...</td>\n",
       "      <td>https://thumbs4.properati.com/1/OoX1ajm8vvAAos...</td>\n",
       "    </tr>\n",
       "    <tr>\n",
       "      <th>42013</th>\n",
       "      <td>42013</td>\n",
       "      <td>sell</td>\n",
       "      <td>apartment</td>\n",
       "      <td>Mar del Plata</td>\n",
       "      <td>|Argentina|Buenos Aires Costa Atlántica|Mar de...</td>\n",
       "      <td>Argentina</td>\n",
       "      <td>Buenos Aires Costa Atlántica</td>\n",
       "      <td>3,430,863.00</td>\n",
       "      <td>-38.0115285,-57.5454299</td>\n",
       "      <td>-38.01</td>\n",
       "      <td>...</td>\n",
       "      <td>75.00</td>\n",
       "      <td>2,084.31</td>\n",
       "      <td>2,834.67</td>\n",
       "      <td>nan</td>\n",
       "      <td>3.00</td>\n",
       "      <td>nan</td>\n",
       "      <td>http://www.properati.com.ar/18vio_venta_depart...</td>\n",
       "      <td>A 6 cuadras de las playas Marplatenses, se pre...</td>\n",
       "      <td>YOUNG TOWER VI CONDOS</td>\n",
       "      <td>https://thumbs4.properati.com/6/lN3M68SCZo9tt8...</td>\n",
       "    </tr>\n",
       "    <tr>\n",
       "      <th>46964</th>\n",
       "      <td>46964</td>\n",
       "      <td>sell</td>\n",
       "      <td>apartment</td>\n",
       "      <td>Palermo</td>\n",
       "      <td>|Argentina|Capital Federal|Palermo|</td>\n",
       "      <td>Argentina</td>\n",
       "      <td>Capital Federal</td>\n",
       "      <td>3,430,234.00</td>\n",
       "      <td>NaN</td>\n",
       "      <td>nan</td>\n",
       "      <td>...</td>\n",
       "      <td>110.00</td>\n",
       "      <td>1,346.15</td>\n",
       "      <td>3,181.82</td>\n",
       "      <td>nan</td>\n",
       "      <td>nan</td>\n",
       "      <td>nan</td>\n",
       "      <td>http://www.properati.com.ar/197ae_venta_depart...</td>\n",
       "      <td>ARGAÃARAS 47 Ciudad autonoma de Buenos AiresEn...</td>\n",
       "      <td>Departamento 260m², Capital Federal, Palermo, ...</td>\n",
       "      <td>https://thumbs4.properati.com/2/pVWhnh9679f5D5...</td>\n",
       "    </tr>\n",
       "    <tr>\n",
       "      <th>96147</th>\n",
       "      <td>96147</td>\n",
       "      <td>sell</td>\n",
       "      <td>apartment</td>\n",
       "      <td>Rosario</td>\n",
       "      <td>|Argentina|Santa Fe|Rosario|</td>\n",
       "      <td>Argentina</td>\n",
       "      <td>Santa Fe</td>\n",
       "      <td>3,838,574.00</td>\n",
       "      <td>NaN</td>\n",
       "      <td>nan</td>\n",
       "      <td>...</td>\n",
       "      <td>29.00</td>\n",
       "      <td>nan</td>\n",
       "      <td>nan</td>\n",
       "      <td>nan</td>\n",
       "      <td>nan</td>\n",
       "      <td>nan</td>\n",
       "      <td>http://www.properati.com.ar/1bi8l_venta_depart...</td>\n",
       "      <td>Departamentos Monoambientes, estar comedor con...</td>\n",
       "      <td>Ideal Inversion - Departamento Monoambiente co...</td>\n",
       "      <td>https://thumbs4.properati.com/6/IwPTKMtuuC_-o7...</td>\n",
       "    </tr>\n",
       "  </tbody>\n",
       "</table>\n",
       "<p>5 rows × 26 columns</p>\n",
       "</div>"
      ],
      "text/plain": [
       "       Unnamed: 0 operation property_type     place_name  \\\n",
       "43040       43040      sell         house     San Isidro   \n",
       "5120         5120      sell         house        Córdoba   \n",
       "42013       42013      sell     apartment  Mar del Plata   \n",
       "46964       46964      sell     apartment        Palermo   \n",
       "96147       96147      sell     apartment        Rosario   \n",
       "\n",
       "                                 place_with_parent_names country_name  \\\n",
       "43040    |Argentina|Bs.As. G.B.A. Zona Norte|San Isidro|    Argentina   \n",
       "5120                         |Argentina|Córdoba|Córdoba|    Argentina   \n",
       "42013  |Argentina|Buenos Aires Costa Atlántica|Mar de...    Argentina   \n",
       "46964                |Argentina|Capital Federal|Palermo|    Argentina   \n",
       "96147                       |Argentina|Santa Fe|Rosario|    Argentina   \n",
       "\n",
       "                         state_name  geonames_id  \\\n",
       "43040      Bs.As. G.B.A. Zona Norte 3,428,983.00   \n",
       "5120                        Córdoba 3,860,259.00   \n",
       "42013  Buenos Aires Costa Atlántica 3,430,863.00   \n",
       "46964               Capital Federal 3,430,234.00   \n",
       "96147                      Santa Fe 3,838,574.00   \n",
       "\n",
       "                             lat-lon    lat  ...  surface_covered_in_m2  \\\n",
       "43040          -34.484496,-58.532992 -34.48  ...                 777.00   \n",
       "5120   -31.2517617664,-64.2704869154 -31.25  ...                 170.00   \n",
       "42013        -38.0115285,-57.5454299 -38.01  ...                  75.00   \n",
       "46964                            NaN    nan  ...                 110.00   \n",
       "96147                            NaN    nan  ...                  29.00   \n",
       "\n",
       "       price_usd_per_m2 price_per_m2  floor  rooms  expenses  \\\n",
       "43040               nan     1,930.50    nan   6.00       nan   \n",
       "5120             343.14     1,029.41    nan   5.00       nan   \n",
       "42013          2,084.31     2,834.67    nan   3.00       nan   \n",
       "46964          1,346.15     3,181.82    nan    nan       nan   \n",
       "96147               nan          nan    nan    nan       nan   \n",
       "\n",
       "                                           properati_url  \\\n",
       "43040  http://www.properati.com.ar/18xk2_venta_casa_s...   \n",
       "5120   http://www.properati.com.ar/15p3v_venta_casa_c...   \n",
       "42013  http://www.properati.com.ar/18vio_venta_depart...   \n",
       "46964  http://www.properati.com.ar/197ae_venta_depart...   \n",
       "96147  http://www.properati.com.ar/1bi8l_venta_depart...   \n",
       "\n",
       "                                             description  \\\n",
       "43040  Venta - Casa - Argentina, Buenos Aires, Zona N...   \n",
       "5120   HERMOSA CASA EN OBRA, SAN ALFONSO DEL TALAR, 3...   \n",
       "42013  A 6 cuadras de las playas Marplatenses, se pre...   \n",
       "46964  ARGAÃARAS 47 Ciudad autonoma de Buenos AiresEn...   \n",
       "96147  Departamentos Monoambientes, estar comedor con...   \n",
       "\n",
       "                                                   title  \\\n",
       "43040          Casa en Venta ubicado en Lomas San Isidro   \n",
       "5120   Hermosa casa en obra, SAN ALFONSO DEL TALAR , ...   \n",
       "42013                              YOUNG TOWER VI CONDOS   \n",
       "46964  Departamento 260m², Capital Federal, Palermo, ...   \n",
       "96147  Ideal Inversion - Departamento Monoambiente co...   \n",
       "\n",
       "                                         image_thumbnail  \n",
       "43040  https://thumbs4.properati.com/2/IRwU_ftMnLHQmq...  \n",
       "5120   https://thumbs4.properati.com/1/OoX1ajm8vvAAos...  \n",
       "42013  https://thumbs4.properati.com/6/lN3M68SCZo9tt8...  \n",
       "46964  https://thumbs4.properati.com/2/pVWhnh9679f5D5...  \n",
       "96147  https://thumbs4.properati.com/6/IwPTKMtuuC_-o7...  \n",
       "\n",
       "[5 rows x 26 columns]"
      ]
     },
     "execution_count": 404,
     "metadata": {},
     "output_type": "execute_result"
    }
   ],
   "source": [
    "mask_1 = original_data[\"state_name\"] == 'Capital Federal'\n",
    "mask_2 = original_data[\"state_name\"] == 'Bs.As. G.B.A. Zona Norte'\n",
    "mask_3 = original_data[\"state_name\"] == 'Bs.As. G.B.A. Zona Sur'\n",
    "mask_4 = original_data[\"state_name\"] == 'Bs.As. G.B.A. Zona Oes'\n",
    "mask_5 = original_data[\"state_name\"] == 'Buenos Aires Costa Atlántica'\n",
    "mask_6 = original_data[\"state_name\"] == 'Santa Fe'\n",
    "mask_7 = original_data[\"state_name\"] == 'Córdoba'\n",
    "\n",
    "state_mask = mask_1 | mask_2 | mask_3 | mask_4 | mask_5 | mask_6 | mask_7\n",
    "\n",
    "filtered_data = original_data[state_mask]\n",
    "filtered_data.sample(5)\n"
   ]
  },
  {
   "cell_type": "code",
   "execution_count": 405,
   "metadata": {},
   "outputs": [
    {
     "data": {
      "text/plain": [
       "(104075, 26)"
      ]
     },
     "execution_count": 405,
     "metadata": {},
     "output_type": "execute_result"
    }
   ],
   "source": [
    "filtered_data.shape"
   ]
  },
  {
   "cell_type": "markdown",
   "metadata": {},
   "source": [
    "Como vemos a partir del .shape, nuestro nuevo dataset contiene un total de 104075 registros."
   ]
  },
  {
   "cell_type": "markdown",
   "metadata": {},
   "source": [
    "Graficaremos a continuación la distribución de densidad de nuestro dataset filtrado."
   ]
  },
  {
   "cell_type": "code",
   "execution_count": 406,
   "metadata": {},
   "outputs": [
    {
     "data": {
      "text/plain": [
       "Capital Federal                31.05\n",
       "Bs.As. G.B.A. Zona Norte       24.56\n",
       "Bs.As. G.B.A. Zona Sur         13.41\n",
       "Córdoba                        11.60\n",
       "Santa Fe                        9.77\n",
       "Buenos Aires Costa Atlántica    9.61\n",
       "Name: state_name, dtype: float64"
      ]
     },
     "execution_count": 406,
     "metadata": {},
     "output_type": "execute_result"
    }
   ],
   "source": [
    "# Primero, volvemos a calcular las proporciones.\n",
    "\n",
    "filtered_data_states = filtered_data[\"state_name\"]\n",
    "\n",
    "filtered_data_proportions = 100. * filtered_data_states.value_counts() / len(filtered_data_states)\n",
    "filtered_data_proportions\n"
   ]
  },
  {
   "cell_type": "code",
   "execution_count": 407,
   "metadata": {},
   "outputs": [
    {
     "data": {
      "image/png": "[encoded data removed]",
      "text/plain": [
       "<Figure size 432x288 with 1 Axes>"
      ]
     },
     "metadata": {},
     "output_type": "display_data"
    }
   ],
   "source": [
    "\n",
    "count=filtered_data[\"state_name\"].value_counts().tolist()\n",
    "\n",
    "label=filtered_data[\"state_name\"].value_counts().index\n",
    "\n",
    "\n",
    "plt.style.use('ggplot')\n",
    "\n",
    "dic = dict(zip(label,count))\n",
    "\n",
    "import itertools\n",
    "newdic={}\n",
    "for key, group in itertools.groupby(dic, lambda k: 'Others' if (dic[k]<2500) else k):\n",
    "     newdic[key] = sum([dic[i] for i in list(group)])   \n",
    "\n",
    "labels = newdic.keys()\n",
    "sizes = newdic.values()\n",
    "\n",
    "fig, ax = plt.subplots()\n",
    "\n",
    "ax.pie(sizes, labels=labels, autopct='%1.2f%%',wedgeprops={\"edgecolor\":\"k\"},explode=[0,0,0,0.1,0.1,0.1], startangle=90)\n",
    "ax.axis('equal')\n",
    "plt.tight_layout()\n",
    "\n",
    "plt.show()"
   ]
  },
  {
   "cell_type": "markdown",
   "metadata": {},
   "source": [
    "Tal como se desprende del gráfico, la mayor cantidad de registros pertenecen a Capital Federal y Bs. As. G.B.A. Zona Norte, siendoque el resto de las localidades representan la mitad o menos de las observaciones de las dos primeras. Por lo cual, haremos una última reducción de nuestro dataset, prescindiendo de aquellas localidades que representan menos del 20% del total. "
   ]
  },
  {
   "cell_type": "code",
   "execution_count": 408,
   "metadata": {},
   "outputs": [
    {
     "data": {
      "text/html": [
       "<div>\n",
       "<style scoped>\n",
       "    .dataframe tbody tr th:only-of-type {\n",
       "        vertical-align: middle;\n",
       "    }\n",
       "\n",
       "    .dataframe tbody tr th {\n",
       "        vertical-align: top;\n",
       "    }\n",
       "\n",
       "    .dataframe thead th {\n",
       "        text-align: right;\n",
       "    }\n",
       "</style>\n",
       "<table border=\"1\" class=\"dataframe\">\n",
       "  <thead>\n",
       "    <tr style=\"text-align: right;\">\n",
       "      <th></th>\n",
       "      <th>Unnamed: 0</th>\n",
       "      <th>operation</th>\n",
       "      <th>property_type</th>\n",
       "      <th>place_name</th>\n",
       "      <th>place_with_parent_names</th>\n",
       "      <th>country_name</th>\n",
       "      <th>state_name</th>\n",
       "      <th>geonames_id</th>\n",
       "      <th>lat-lon</th>\n",
       "      <th>lat</th>\n",
       "      <th>...</th>\n",
       "      <th>surface_covered_in_m2</th>\n",
       "      <th>price_usd_per_m2</th>\n",
       "      <th>price_per_m2</th>\n",
       "      <th>floor</th>\n",
       "      <th>rooms</th>\n",
       "      <th>expenses</th>\n",
       "      <th>properati_url</th>\n",
       "      <th>description</th>\n",
       "      <th>title</th>\n",
       "      <th>image_thumbnail</th>\n",
       "    </tr>\n",
       "  </thead>\n",
       "  <tbody>\n",
       "    <tr>\n",
       "      <th>63690</th>\n",
       "      <td>63690</td>\n",
       "      <td>sell</td>\n",
       "      <td>house</td>\n",
       "      <td>Tigre</td>\n",
       "      <td>|Argentina|Bs.As. G.B.A. Zona Norte|Tigre|</td>\n",
       "      <td>Argentina</td>\n",
       "      <td>Bs.As. G.B.A. Zona Norte</td>\n",
       "      <td>3,427,753.00</td>\n",
       "      <td>-34.4779759,-58.5332069</td>\n",
       "      <td>-34.48</td>\n",
       "      <td>...</td>\n",
       "      <td>180.00</td>\n",
       "      <td>1,890.00</td>\n",
       "      <td>2,100.00</td>\n",
       "      <td>nan</td>\n",
       "      <td>nan</td>\n",
       "      <td>nan</td>\n",
       "      <td>http://www.properati.com.ar/1a98p_venta_casa_t...</td>\n",
       "      <td>MAO. Espectacular casa en el barrio San Marco ...</td>\n",
       "      <td>MAO. Casa de una planta en lote al agua en el ...</td>\n",
       "      <td>https://thumbs4.properati.com/6/Rfg-WHoYOMg1DN...</td>\n",
       "    </tr>\n",
       "    <tr>\n",
       "      <th>101493</th>\n",
       "      <td>101493</td>\n",
       "      <td>sell</td>\n",
       "      <td>apartment</td>\n",
       "      <td>Beccar</td>\n",
       "      <td>|Argentina|Bs.As. G.B.A. Zona Norte|San Isidro...</td>\n",
       "      <td>Argentina</td>\n",
       "      <td>Bs.As. G.B.A. Zona Norte</td>\n",
       "      <td>3,436,080.00</td>\n",
       "      <td>NaN</td>\n",
       "      <td>nan</td>\n",
       "      <td>...</td>\n",
       "      <td>51.00</td>\n",
       "      <td>nan</td>\n",
       "      <td>30,088.24</td>\n",
       "      <td>nan</td>\n",
       "      <td>nan</td>\n",
       "      <td>nan</td>\n",
       "      <td>http://www.properati.com.ar/1bpfs_venta_depart...</td>\n",
       "      <td>EDIFICIO CON 35 UNIDADES DE 1 Y 2 AMBIENTES. A...</td>\n",
       "      <td>Departamento en Beccar Alto</td>\n",
       "      <td>https://thumbs4.properati.com/5/DyMV2cCHAezBIz...</td>\n",
       "    </tr>\n",
       "    <tr>\n",
       "      <th>43774</th>\n",
       "      <td>43774</td>\n",
       "      <td>sell</td>\n",
       "      <td>apartment</td>\n",
       "      <td>Paternal</td>\n",
       "      <td>|Argentina|Capital Federal|Paternal|</td>\n",
       "      <td>Argentina</td>\n",
       "      <td>Capital Federal</td>\n",
       "      <td>3,430,087.00</td>\n",
       "      <td>-34.5994894,-58.4681987</td>\n",
       "      <td>-34.60</td>\n",
       "      <td>...</td>\n",
       "      <td>100.00</td>\n",
       "      <td>1,300.00</td>\n",
       "      <td>1,300.00</td>\n",
       "      <td>nan</td>\n",
       "      <td>4.00</td>\n",
       "      <td>nan</td>\n",
       "      <td>http://www.properati.com.ar/18z3p_venta_depart...</td>\n",
       "      <td>Av. Alvarez Jonte 1.647 /CABA / 4 AMBIENTES CA...</td>\n",
       "      <td>Av. Alvarez Jonte 1.647 /CABA / 4 AMBIENTES CA...</td>\n",
       "      <td>https://thumbs4.properati.com/8/rI3ljU1ch4-okz...</td>\n",
       "    </tr>\n",
       "    <tr>\n",
       "      <th>80954</th>\n",
       "      <td>80954</td>\n",
       "      <td>sell</td>\n",
       "      <td>apartment</td>\n",
       "      <td>Palermo</td>\n",
       "      <td>|Argentina|Capital Federal|Palermo|</td>\n",
       "      <td>Argentina</td>\n",
       "      <td>Capital Federal</td>\n",
       "      <td>3,430,234.00</td>\n",
       "      <td>-34.5675477151,-58.4323074151</td>\n",
       "      <td>-34.57</td>\n",
       "      <td>...</td>\n",
       "      <td>107.00</td>\n",
       "      <td>4,545.45</td>\n",
       "      <td>4,672.90</td>\n",
       "      <td>nan</td>\n",
       "      <td>nan</td>\n",
       "      <td>7,400.00</td>\n",
       "      <td>http://www.properati.com.ar/1axff_venta_depart...</td>\n",
       "      <td>Exclusivo departamento de tres ambientes de 11...</td>\n",
       "      <td>Exclusivo tres ambientes con cochera doble</td>\n",
       "      <td>https://thumbs4.properati.com/0/n07TDGvkmmXgIt...</td>\n",
       "    </tr>\n",
       "    <tr>\n",
       "      <th>47574</th>\n",
       "      <td>47574</td>\n",
       "      <td>sell</td>\n",
       "      <td>apartment</td>\n",
       "      <td>San Martín</td>\n",
       "      <td>|Argentina|Bs.As. G.B.A. Zona Norte|General Sa...</td>\n",
       "      <td>Argentina</td>\n",
       "      <td>Bs.As. G.B.A. Zona Norte</td>\n",
       "      <td>nan</td>\n",
       "      <td>-34.5896034,-58.5565896</td>\n",
       "      <td>-34.59</td>\n",
       "      <td>...</td>\n",
       "      <td>nan</td>\n",
       "      <td>nan</td>\n",
       "      <td>nan</td>\n",
       "      <td>nan</td>\n",
       "      <td>nan</td>\n",
       "      <td>nan</td>\n",
       "      <td>http://www.properati.com.ar/198ip_venta_depart...</td>\n",
       "      <td>CODIGO: 4008-CARLOSJOSE-9 ubicado en: AV. 1 DE...</td>\n",
       "      <td>DEPARTAMENTO EN VENTA ZONA SAN MARTIN</td>\n",
       "      <td>https://thumbs4.properati.com/6/JkdgHJ7DQnYJlP...</td>\n",
       "    </tr>\n",
       "  </tbody>\n",
       "</table>\n",
       "<p>5 rows × 26 columns</p>\n",
       "</div>"
      ],
      "text/plain": [
       "        Unnamed: 0 operation property_type  place_name  \\\n",
       "63690        63690      sell         house       Tigre   \n",
       "101493      101493      sell     apartment      Beccar   \n",
       "43774        43774      sell     apartment    Paternal   \n",
       "80954        80954      sell     apartment     Palermo   \n",
       "47574        47574      sell     apartment  San Martín   \n",
       "\n",
       "                                  place_with_parent_names country_name  \\\n",
       "63690          |Argentina|Bs.As. G.B.A. Zona Norte|Tigre|    Argentina   \n",
       "101493  |Argentina|Bs.As. G.B.A. Zona Norte|San Isidro...    Argentina   \n",
       "43774                |Argentina|Capital Federal|Paternal|    Argentina   \n",
       "80954                 |Argentina|Capital Federal|Palermo|    Argentina   \n",
       "47574   |Argentina|Bs.As. G.B.A. Zona Norte|General Sa...    Argentina   \n",
       "\n",
       "                      state_name  geonames_id                        lat-lon  \\\n",
       "63690   Bs.As. G.B.A. Zona Norte 3,427,753.00        -34.4779759,-58.5332069   \n",
       "101493  Bs.As. G.B.A. Zona Norte 3,436,080.00                            NaN   \n",
       "43774            Capital Federal 3,430,087.00        -34.5994894,-58.4681987   \n",
       "80954            Capital Federal 3,430,234.00  -34.5675477151,-58.4323074151   \n",
       "47574   Bs.As. G.B.A. Zona Norte          nan        -34.5896034,-58.5565896   \n",
       "\n",
       "          lat  ...  surface_covered_in_m2  price_usd_per_m2 price_per_m2  \\\n",
       "63690  -34.48  ...                 180.00          1,890.00     2,100.00   \n",
       "101493    nan  ...                  51.00               nan    30,088.24   \n",
       "43774  -34.60  ...                 100.00          1,300.00     1,300.00   \n",
       "80954  -34.57  ...                 107.00          4,545.45     4,672.90   \n",
       "47574  -34.59  ...                    nan               nan          nan   \n",
       "\n",
       "        floor  rooms  expenses  \\\n",
       "63690     nan    nan       nan   \n",
       "101493    nan    nan       nan   \n",
       "43774     nan   4.00       nan   \n",
       "80954     nan    nan  7,400.00   \n",
       "47574     nan    nan       nan   \n",
       "\n",
       "                                            properati_url  \\\n",
       "63690   http://www.properati.com.ar/1a98p_venta_casa_t...   \n",
       "101493  http://www.properati.com.ar/1bpfs_venta_depart...   \n",
       "43774   http://www.properati.com.ar/18z3p_venta_depart...   \n",
       "80954   http://www.properati.com.ar/1axff_venta_depart...   \n",
       "47574   http://www.properati.com.ar/198ip_venta_depart...   \n",
       "\n",
       "                                              description  \\\n",
       "63690   MAO. Espectacular casa en el barrio San Marco ...   \n",
       "101493  EDIFICIO CON 35 UNIDADES DE 1 Y 2 AMBIENTES. A...   \n",
       "43774   Av. Alvarez Jonte 1.647 /CABA / 4 AMBIENTES CA...   \n",
       "80954   Exclusivo departamento de tres ambientes de 11...   \n",
       "47574   CODIGO: 4008-CARLOSJOSE-9 ubicado en: AV. 1 DE...   \n",
       "\n",
       "                                                    title  \\\n",
       "63690   MAO. Casa de una planta en lote al agua en el ...   \n",
       "101493                        Departamento en Beccar Alto   \n",
       "43774   Av. Alvarez Jonte 1.647 /CABA / 4 AMBIENTES CA...   \n",
       "80954          Exclusivo tres ambientes con cochera doble   \n",
       "47574               DEPARTAMENTO EN VENTA ZONA SAN MARTIN   \n",
       "\n",
       "                                          image_thumbnail  \n",
       "63690   https://thumbs4.properati.com/6/Rfg-WHoYOMg1DN...  \n",
       "101493  https://thumbs4.properati.com/5/DyMV2cCHAezBIz...  \n",
       "43774   https://thumbs4.properati.com/8/rI3ljU1ch4-okz...  \n",
       "80954   https://thumbs4.properati.com/0/n07TDGvkmmXgIt...  \n",
       "47574   https://thumbs4.properati.com/6/JkdgHJ7DQnYJlP...  \n",
       "\n",
       "[5 rows x 26 columns]"
      ]
     },
     "execution_count": 408,
     "metadata": {},
     "output_type": "execute_result"
    }
   ],
   "source": [
    "#Efectuaremos el último filtro para quedarnos únicamente con registros pertenecientes a Capital Federal y Bs. As. G.B.A. Zona Norte\n",
    "\n",
    "mask_1 = original_data[\"state_name\"] == 'Capital Federal'\n",
    "mask_2 = original_data[\"state_name\"] == 'Bs.As. G.B.A. Zona Norte'\n",
    "\n",
    "state_mask = mask_1 | mask_2\n",
    "\n",
    "final_filtered_data = original_data[state_mask]\n",
    "\n",
    "final_filtered_data.sample(5)"
   ]
  },
  {
   "cell_type": "code",
   "execution_count": 409,
   "metadata": {},
   "outputs": [],
   "source": [
    "dgcut = final_filtered_data.loc[:, ['state_name', 'lat',\"lon\"]]"
   ]
  },
  {
   "cell_type": "code",
   "execution_count": 410,
   "metadata": {},
   "outputs": [],
   "source": [
    "geodgcut = gpd.GeoDataFrame(dgcut, geometry=gpd.points_from_xy(dgcut.lon, dgcut.lat))"
   ]
  },
  {
   "cell_type": "code",
   "execution_count": 411,
   "metadata": {},
   "outputs": [
    {
     "data": {
      "image/png": "[encoded data removed]",
      "text/plain": [
       "<Figure size 648x864 with 1 Axes>"
      ]
     },
     "metadata": {},
     "output_type": "display_data"
    }
   ],
   "source": [
    "graficar (geodgcut, geoarg)"
   ]
  },
  {
   "cell_type": "code",
   "execution_count": 412,
   "metadata": {},
   "outputs": [
    {
     "data": {
      "text/html": [
       "<div>\n",
       "<style scoped>\n",
       "    .dataframe tbody tr th:only-of-type {\n",
       "        vertical-align: middle;\n",
       "    }\n",
       "\n",
       "    .dataframe tbody tr th {\n",
       "        vertical-align: top;\n",
       "    }\n",
       "\n",
       "    .dataframe thead th {\n",
       "        text-align: right;\n",
       "    }\n",
       "</style>\n",
       "<table border=\"1\" class=\"dataframe\">\n",
       "  <thead>\n",
       "    <tr style=\"text-align: right;\">\n",
       "      <th></th>\n",
       "      <th>localidad</th>\n",
       "      <th>latitud</th>\n",
       "      <th>longitud</th>\n",
       "    </tr>\n",
       "  </thead>\n",
       "  <tbody>\n",
       "    <tr>\n",
       "      <th>0</th>\n",
       "      <td>|Argentina|Capital Federal|Mataderos|</td>\n",
       "      <td>-34.66</td>\n",
       "      <td>-58.51</td>\n",
       "    </tr>\n",
       "    <tr>\n",
       "      <th>2</th>\n",
       "      <td>|Argentina|Capital Federal|Mataderos|</td>\n",
       "      <td>-34.65</td>\n",
       "      <td>-58.52</td>\n",
       "    </tr>\n",
       "    <tr>\n",
       "      <th>3</th>\n",
       "      <td>|Argentina|Capital Federal|Liniers|</td>\n",
       "      <td>-34.65</td>\n",
       "      <td>-58.52</td>\n",
       "    </tr>\n",
       "    <tr>\n",
       "      <th>6</th>\n",
       "      <td>|Argentina|Bs.As. G.B.A. Zona Norte|Vicente Ló...</td>\n",
       "      <td>-34.53</td>\n",
       "      <td>-58.52</td>\n",
       "    </tr>\n",
       "    <tr>\n",
       "      <th>7</th>\n",
       "      <td>|Argentina|Capital Federal|Belgrano|</td>\n",
       "      <td>-34.56</td>\n",
       "      <td>-58.44</td>\n",
       "    </tr>\n",
       "    <tr>\n",
       "      <th>...</th>\n",
       "      <td>...</td>\n",
       "      <td>...</td>\n",
       "      <td>...</td>\n",
       "    </tr>\n",
       "    <tr>\n",
       "      <th>121153</th>\n",
       "      <td>|Argentina|Capital Federal|Barrio Norte|</td>\n",
       "      <td>-34.60</td>\n",
       "      <td>-58.40</td>\n",
       "    </tr>\n",
       "    <tr>\n",
       "      <th>121158</th>\n",
       "      <td>|Argentina|Capital Federal|Recoleta|</td>\n",
       "      <td>-34.59</td>\n",
       "      <td>-58.40</td>\n",
       "    </tr>\n",
       "    <tr>\n",
       "      <th>121160</th>\n",
       "      <td>|Argentina|Capital Federal|Belgrano|</td>\n",
       "      <td>-34.56</td>\n",
       "      <td>-58.44</td>\n",
       "    </tr>\n",
       "    <tr>\n",
       "      <th>121209</th>\n",
       "      <td>|Argentina|Capital Federal|Belgrano|</td>\n",
       "      <td>-34.56</td>\n",
       "      <td>-58.44</td>\n",
       "    </tr>\n",
       "    <tr>\n",
       "      <th>121217</th>\n",
       "      <td>|Argentina|Capital Federal|Villa Urquiza|</td>\n",
       "      <td>-34.57</td>\n",
       "      <td>-58.48</td>\n",
       "    </tr>\n",
       "  </tbody>\n",
       "</table>\n",
       "<p>35208 rows × 3 columns</p>\n",
       "</div>"
      ],
      "text/plain": [
       "                                                localidad  latitud  longitud\n",
       "0                   |Argentina|Capital Federal|Mataderos|   -34.66    -58.51\n",
       "2                   |Argentina|Capital Federal|Mataderos|   -34.65    -58.52\n",
       "3                     |Argentina|Capital Federal|Liniers|   -34.65    -58.52\n",
       "6       |Argentina|Bs.As. G.B.A. Zona Norte|Vicente Ló...   -34.53    -58.52\n",
       "7                    |Argentina|Capital Federal|Belgrano|   -34.56    -58.44\n",
       "...                                                   ...      ...       ...\n",
       "121153           |Argentina|Capital Federal|Barrio Norte|   -34.60    -58.40\n",
       "121158               |Argentina|Capital Federal|Recoleta|   -34.59    -58.40\n",
       "121160               |Argentina|Capital Federal|Belgrano|   -34.56    -58.44\n",
       "121209               |Argentina|Capital Federal|Belgrano|   -34.56    -58.44\n",
       "121217          |Argentina|Capital Federal|Villa Urquiza|   -34.57    -58.48\n",
       "\n",
       "[35208 rows x 3 columns]"
      ]
     },
     "execution_count": 412,
     "metadata": {},
     "output_type": "execute_result"
    }
   ],
   "source": [
    "final_filtered_data_latlon = pd.DataFrame()\n",
    "final_filtered_data_latlon[\"localidad\"] = final_filtered_data[\"place_with_parent_names\"]\n",
    "final_filtered_data_latlon[\"latitud\"] = final_filtered_data[\"lat\"]\n",
    "final_filtered_data_latlon[\"longitud\"] = final_filtered_data[\"lon\"]\n",
    "final_filtered_data_latlon.dropna()"
   ]
  },
  {
   "cell_type": "code",
   "execution_count": 413,
   "metadata": {},
   "outputs": [
    {
     "data": {
      "text/plain": [
       "(-63.616672, -58.3549564938, -38.416097, -34.1598)"
      ]
     },
     "execution_count": 413,
     "metadata": {},
     "output_type": "execute_result"
    }
   ],
   "source": [
    "BBox = ((final_filtered_data_latlon.longitud.min(),   final_filtered_data_latlon.longitud.max(),      \n",
    "         final_filtered_data_latlon.latitud.min(), final_filtered_data_latlon.latitud.max()))\n",
    "BBox"
   ]
  },
  {
   "cell_type": "code",
   "execution_count": 414,
   "metadata": {},
   "outputs": [],
   "source": [
    "ruh_m = plt.imread(\"Data/map.png\")"
   ]
  },
  {
   "cell_type": "code",
   "execution_count": 415,
   "metadata": {},
   "outputs": [
    {
     "data": {
      "text/plain": [
       "<matplotlib.image.AxesImage at 0x17f1a77dd30>"
      ]
     },
     "execution_count": 415,
     "metadata": {},
     "output_type": "execute_result"
    },
    {
     "data": {
      "image/png": "[encoded data removed]",
      "text/plain": [
       "<Figure size 576x504 with 1 Axes>"
      ]
     },
     "metadata": {},
     "output_type": "display_data"
    }
   ],
   "source": [
    "fig, ax = plt.subplots(figsize = (8,7))\n",
    "\n",
    "ax.set_title('Data set definitivo')\n",
    "ax.set_xlim(BBox[0],BBox[1])\n",
    "ax.set_ylim(BBox[2],BBox[3])\n",
    "\n",
    "ax.scatter(final_filtered_data_latlon.longitud, final_filtered_data_latlon.latitud, zorder=1, alpha= 1, c='b', s=30)\n",
    "ax.imshow(ruh_m, zorder=0, extent = BBox, aspect= 'auto')\n",
    "\n",
    "# for i, txt in enumerate(final_filtered_data_latlon.localidad):\n",
    "#     ax.annotate(txt, (final_filtered_data_latlon.longitud[i],final_filtered_data_latlon.latitud[i]))"
   ]
  },
  {
   "cell_type": "markdown",
   "metadata": {},
   "source": [
    "### 3.2. Eliminación de registros duplicados."
   ]
  },
  {
   "cell_type": "code",
   "execution_count": 416,
   "metadata": {},
   "outputs": [
    {
     "data": {
      "text/plain": [
       "57876"
      ]
     },
     "execution_count": 416,
     "metadata": {},
     "output_type": "execute_result"
    }
   ],
   "source": [
    "#Calculamos el total de registros de nuestro nuevo dataset.\n",
    "\n",
    "len(final_filtered_data)"
   ]
  },
  {
   "cell_type": "code",
   "execution_count": 417,
   "metadata": {},
   "outputs": [
    {
     "data": {
      "text/plain": [
       "57876"
      ]
     },
     "execution_count": 417,
     "metadata": {},
     "output_type": "execute_result"
    }
   ],
   "source": [
    "#Eliminamos los registros duplicados.\n",
    "\n",
    "final_filtered_data = final_filtered_data.drop_duplicates()\n",
    "len(final_filtered_data)"
   ]
  },
  {
   "cell_type": "markdown",
   "metadata": {},
   "source": [
    "Como vemos, el total de registros del dataset antes y después de la eliminación de duplicados es igual, por lo cual no existían duplicados."
   ]
  },
  {
   "cell_type": "code",
   "execution_count": 418,
   "metadata": {},
   "outputs": [
    {
     "data": {
      "text/plain": [
       "53264"
      ]
     },
     "execution_count": 418,
     "metadata": {},
     "output_type": "execute_result"
    }
   ],
   "source": [
    "# Ahora eliminaremos los registros que tengan valores duplicados en los campos descripción y precio.\n",
    "\n",
    "final_filtered_data = final_filtered_data.drop_duplicates(subset=['price','description'])\n",
    "len(final_filtered_data)"
   ]
  },
  {
   "cell_type": "markdown",
   "metadata": {},
   "source": [
    "En este caso podemos ver que efectivamente había registros con los mismos valores en descripción y precio, y al haberlos eliminado redujimos el dataset en poco más de cuatro mil unidades."
   ]
  },
  {
   "cell_type": "markdown",
   "metadata": {},
   "source": [
    "### 3.3. Eliminación de columnas innecesarias."
   ]
  },
  {
   "cell_type": "code",
   "execution_count": 419,
   "metadata": {},
   "outputs": [],
   "source": [
    "final_filtered_data.drop(['operation', 'Unnamed: 0', 'country_name', 'floor', 'expenses', 'image_thumbnail'], axis=1, inplace=True)"
   ]
  },
  {
   "cell_type": "markdown",
   "metadata": {},
   "source": [
    "### 3.4. Cálculo de columnas con gran porcentaje de valores NaN."
   ]
  },
  {
   "cell_type": "code",
   "execution_count": 420,
   "metadata": {},
   "outputs": [
    {
     "data": {
      "text/plain": [
       "property_type                 0.00\n",
       "place_name                    0.04\n",
       "place_with_parent_names       0.00\n",
       "state_name                    0.00\n",
       "geonames_id                  19.69\n",
       "lat-lon                      39.08\n",
       "lat                          39.08\n",
       "lon                          39.08\n",
       "price                         5.53\n",
       "currency                      5.53\n",
       "price_aprox_local_currency    5.53\n",
       "price_aprox_usd               5.53\n",
       "surface_total_in_m2          23.08\n",
       "surface_covered_in_m2         6.64\n",
       "price_usd_per_m2             28.07\n",
       "price_per_m2                 11.42\n",
       "rooms                        61.45\n",
       "properati_url                 0.00\n",
       "description                   0.00\n",
       "title                         0.00\n",
       "dtype: float64"
      ]
     },
     "execution_count": 420,
     "metadata": {},
     "output_type": "execute_result"
    }
   ],
   "source": [
    "#Calculamos porcentaje de nulos de cada columna.\n",
    "\n",
    "final_filtered_data_nulls = get_null(final_filtered_data)\n",
    "final_filtered_data_nulls"
   ]
  },
  {
   "cell_type": "markdown",
   "metadata": {},
   "source": [
    "## 4. Imputación de valores faltantes."
   ]
  },
  {
   "cell_type": "code",
   "execution_count": 421,
   "metadata": {},
   "outputs": [
    {
     "data": {
      "text/plain": [
       "property_type                     0\n",
       "place_name                       23\n",
       "place_with_parent_names           0\n",
       "state_name                        0\n",
       "geonames_id                   10486\n",
       "lat-lon                       20813\n",
       "lat                           20813\n",
       "lon                           20813\n",
       "price                          2948\n",
       "currency                       2948\n",
       "price_aprox_local_currency     2948\n",
       "price_aprox_usd                2948\n",
       "surface_total_in_m2           12293\n",
       "surface_covered_in_m2          3535\n",
       "price_usd_per_m2              14949\n",
       "price_per_m2                   6085\n",
       "rooms                         32732\n",
       "properati_url                     0\n",
       "description                       1\n",
       "title                             0\n",
       "dtype: int64"
      ]
     },
     "execution_count": 421,
     "metadata": {},
     "output_type": "execute_result"
    }
   ],
   "source": [
    "# Obtenemos los valores faltantes por columna.\n",
    "final_filtered_data_missing_values = final_filtered_data.isnull().sum()\n",
    "\n",
    "missing_values_count"
   ]
  },
  {
   "cell_type": "code",
   "execution_count": 422,
   "metadata": {},
   "outputs": [
    {
     "name": "stdout",
     "output_type": "stream",
     "text": [
      "14.487740312406128\n"
     ]
    }
   ],
   "source": [
    "# how many total missing values do we have?\n",
    "total_cells = np.product(final_filtered_data.shape)\n",
    "total_missing = final_filtered_data_missing_values.sum()\n",
    "\n",
    "# percent of data that is missing\n",
    "percent_missing = (total_missing/total_cells) * 100\n",
    "print(percent_missing)"
   ]
  },
  {
   "cell_type": "code",
   "execution_count": 423,
   "metadata": {},
   "outputs": [
    {
     "data": {
      "text/html": [
       "<div>\n",
       "<style scoped>\n",
       "    .dataframe tbody tr th:only-of-type {\n",
       "        vertical-align: middle;\n",
       "    }\n",
       "\n",
       "    .dataframe tbody tr th {\n",
       "        vertical-align: top;\n",
       "    }\n",
       "\n",
       "    .dataframe thead th {\n",
       "        text-align: right;\n",
       "    }\n",
       "</style>\n",
       "<table border=\"1\" class=\"dataframe\">\n",
       "  <thead>\n",
       "    <tr style=\"text-align: right;\">\n",
       "      <th></th>\n",
       "      <th>property_type</th>\n",
       "      <th>place_with_parent_names</th>\n",
       "      <th>state_name</th>\n",
       "      <th>properati_url</th>\n",
       "      <th>title</th>\n",
       "    </tr>\n",
       "  </thead>\n",
       "  <tbody>\n",
       "    <tr>\n",
       "      <th>0</th>\n",
       "      <td>PH</td>\n",
       "      <td>|Argentina|Capital Federal|Mataderos|</td>\n",
       "      <td>Capital Federal</td>\n",
       "      <td>http://www.properati.com.ar/15bo8_venta_ph_mat...</td>\n",
       "      <td>2 AMB TIPO CASA SIN EXPENSAS EN PB</td>\n",
       "    </tr>\n",
       "    <tr>\n",
       "      <th>2</th>\n",
       "      <td>apartment</td>\n",
       "      <td>|Argentina|Capital Federal|Mataderos|</td>\n",
       "      <td>Capital Federal</td>\n",
       "      <td>http://www.properati.com.ar/15bod_venta_depart...</td>\n",
       "      <td>2 AMB 3ER PISO CON ASCENSOR APTO CREDITO</td>\n",
       "    </tr>\n",
       "    <tr>\n",
       "      <th>3</th>\n",
       "      <td>PH</td>\n",
       "      <td>|Argentina|Capital Federal|Liniers|</td>\n",
       "      <td>Capital Federal</td>\n",
       "      <td>http://www.properati.com.ar/15boh_venta_ph_lin...</td>\n",
       "      <td>PH 3 amb. cfte. reciclado</td>\n",
       "    </tr>\n",
       "    <tr>\n",
       "      <th>6</th>\n",
       "      <td>PH</td>\n",
       "      <td>|Argentina|Bs.As. G.B.A. Zona Norte|Vicente Ló...</td>\n",
       "      <td>Bs.As. G.B.A. Zona Norte</td>\n",
       "      <td>http://www.properati.com.ar/15bor_venta_ph_mun...</td>\n",
       "      <td>MUY BUEN PH AL FRENTE DOS DORMITORIOS , PATIO,...</td>\n",
       "    </tr>\n",
       "    <tr>\n",
       "      <th>7</th>\n",
       "      <td>apartment</td>\n",
       "      <td>|Argentina|Capital Federal|Belgrano|</td>\n",
       "      <td>Capital Federal</td>\n",
       "      <td>http://www.properati.com.ar/15bot_venta_depart...</td>\n",
       "      <td>JOSE HERNANDEZ 1400 MONOAMBIENTE  ESTRENAR CAT...</td>\n",
       "    </tr>\n",
       "  </tbody>\n",
       "</table>\n",
       "</div>"
      ],
      "text/plain": [
       "  property_type                            place_with_parent_names  \\\n",
       "0            PH              |Argentina|Capital Federal|Mataderos|   \n",
       "2     apartment              |Argentina|Capital Federal|Mataderos|   \n",
       "3            PH                |Argentina|Capital Federal|Liniers|   \n",
       "6            PH  |Argentina|Bs.As. G.B.A. Zona Norte|Vicente Ló...   \n",
       "7     apartment               |Argentina|Capital Federal|Belgrano|   \n",
       "\n",
       "                 state_name  \\\n",
       "0           Capital Federal   \n",
       "2           Capital Federal   \n",
       "3           Capital Federal   \n",
       "6  Bs.As. G.B.A. Zona Norte   \n",
       "7           Capital Federal   \n",
       "\n",
       "                                       properati_url  \\\n",
       "0  http://www.properati.com.ar/15bo8_venta_ph_mat...   \n",
       "2  http://www.properati.com.ar/15bod_venta_depart...   \n",
       "3  http://www.properati.com.ar/15boh_venta_ph_lin...   \n",
       "6  http://www.properati.com.ar/15bor_venta_ph_mun...   \n",
       "7  http://www.properati.com.ar/15bot_venta_depart...   \n",
       "\n",
       "                                               title  \n",
       "0                 2 AMB TIPO CASA SIN EXPENSAS EN PB  \n",
       "2           2 AMB 3ER PISO CON ASCENSOR APTO CREDITO  \n",
       "3                       PH 3 amb. cfte. reciclado     \n",
       "6  MUY BUEN PH AL FRENTE DOS DORMITORIOS , PATIO,...  \n",
       "7  JOSE HERNANDEZ 1400 MONOAMBIENTE  ESTRENAR CAT...  "
      ]
     },
     "execution_count": 423,
     "metadata": {},
     "output_type": "execute_result"
    }
   ],
   "source": [
    "# auto complete data, the column place_name can complete with the column place_with_parent_name\n",
    "# remove all columns with at least one missing value\n",
    "columns_with_na_dropped = final_filtered_data.dropna(axis=1)\n",
    "columns_with_na_dropped.head()"
   ]
  },
  {
   "cell_type": "code",
   "execution_count": 424,
   "metadata": {},
   "outputs": [
    {
     "name": "stdout",
     "output_type": "stream",
     "text": [
      "Columns in original dataset: 20 \n",
      "\n",
      "Columns with na's dropped: 5\n"
     ]
    }
   ],
   "source": [
    "# just how much data did we lose? example to remove null fields\n",
    "print(\"Columns in original dataset: %d \\n\" % final_filtered_data.shape[1])\n",
    "print(\"Columns with na's dropped: %d\" % columns_with_na_dropped.shape[1])"
   ]
  },
  {
   "cell_type": "code",
   "execution_count": 425,
   "metadata": {},
   "outputs": [],
   "source": [
    "#Split the column for fill others fields\n",
    "s = final_filtered_data['place_with_parent_names'].str.split(\"|\", n=4, expand=True)"
   ]
  },
  {
   "cell_type": "code",
   "execution_count": 426,
   "metadata": {},
   "outputs": [
    {
     "data": {
      "text/html": [
       "<div>\n",
       "<style scoped>\n",
       "    .dataframe tbody tr th:only-of-type {\n",
       "        vertical-align: middle;\n",
       "    }\n",
       "\n",
       "    .dataframe tbody tr th {\n",
       "        vertical-align: top;\n",
       "    }\n",
       "\n",
       "    .dataframe thead th {\n",
       "        text-align: right;\n",
       "    }\n",
       "</style>\n",
       "<table border=\"1\" class=\"dataframe\">\n",
       "  <thead>\n",
       "    <tr style=\"text-align: right;\">\n",
       "      <th></th>\n",
       "      <th>0</th>\n",
       "      <th>1</th>\n",
       "      <th>2</th>\n",
       "      <th>3</th>\n",
       "      <th>4</th>\n",
       "    </tr>\n",
       "  </thead>\n",
       "  <tbody>\n",
       "    <tr>\n",
       "      <th>0</th>\n",
       "      <td></td>\n",
       "      <td>Argentina</td>\n",
       "      <td>Capital Federal</td>\n",
       "      <td>Mataderos</td>\n",
       "      <td></td>\n",
       "    </tr>\n",
       "    <tr>\n",
       "      <th>2</th>\n",
       "      <td></td>\n",
       "      <td>Argentina</td>\n",
       "      <td>Capital Federal</td>\n",
       "      <td>Mataderos</td>\n",
       "      <td></td>\n",
       "    </tr>\n",
       "    <tr>\n",
       "      <th>3</th>\n",
       "      <td></td>\n",
       "      <td>Argentina</td>\n",
       "      <td>Capital Federal</td>\n",
       "      <td>Liniers</td>\n",
       "      <td></td>\n",
       "    </tr>\n",
       "    <tr>\n",
       "      <th>6</th>\n",
       "      <td></td>\n",
       "      <td>Argentina</td>\n",
       "      <td>Bs.As. G.B.A. Zona Norte</td>\n",
       "      <td>Vicente López</td>\n",
       "      <td>Munro|</td>\n",
       "    </tr>\n",
       "    <tr>\n",
       "      <th>7</th>\n",
       "      <td></td>\n",
       "      <td>Argentina</td>\n",
       "      <td>Capital Federal</td>\n",
       "      <td>Belgrano</td>\n",
       "      <td></td>\n",
       "    </tr>\n",
       "  </tbody>\n",
       "</table>\n",
       "</div>"
      ],
      "text/plain": [
       "  0          1                         2              3       4\n",
       "0    Argentina           Capital Federal      Mataderos        \n",
       "2    Argentina           Capital Federal      Mataderos        \n",
       "3    Argentina           Capital Federal        Liniers        \n",
       "6    Argentina  Bs.As. G.B.A. Zona Norte  Vicente López  Munro|\n",
       "7    Argentina           Capital Federal       Belgrano        "
      ]
     },
     "execution_count": 426,
     "metadata": {},
     "output_type": "execute_result"
    }
   ],
   "source": [
    "s.head()"
   ]
  },
  {
   "cell_type": "code",
   "execution_count": 427,
   "metadata": {},
   "outputs": [],
   "source": [
    "url = final_filtered_data['properati_url'].str.split(r\"\\_|-\", n=25, expand=True)"
   ]
  },
  {
   "cell_type": "code",
   "execution_count": 428,
   "metadata": {},
   "outputs": [
    {
     "data": {
      "text/html": [
       "<div>\n",
       "<style scoped>\n",
       "    .dataframe tbody tr th:only-of-type {\n",
       "        vertical-align: middle;\n",
       "    }\n",
       "\n",
       "    .dataframe tbody tr th {\n",
       "        vertical-align: top;\n",
       "    }\n",
       "\n",
       "    .dataframe thead th {\n",
       "        text-align: right;\n",
       "    }\n",
       "</style>\n",
       "<table border=\"1\" class=\"dataframe\">\n",
       "  <thead>\n",
       "    <tr style=\"text-align: right;\">\n",
       "      <th></th>\n",
       "      <th>0</th>\n",
       "      <th>1</th>\n",
       "      <th>2</th>\n",
       "      <th>3</th>\n",
       "      <th>4</th>\n",
       "      <th>5</th>\n",
       "      <th>6</th>\n",
       "      <th>7</th>\n",
       "      <th>8</th>\n",
       "      <th>9</th>\n",
       "      <th>...</th>\n",
       "      <th>16</th>\n",
       "      <th>17</th>\n",
       "      <th>18</th>\n",
       "      <th>19</th>\n",
       "      <th>20</th>\n",
       "      <th>21</th>\n",
       "      <th>22</th>\n",
       "      <th>23</th>\n",
       "      <th>24</th>\n",
       "      <th>25</th>\n",
       "    </tr>\n",
       "  </thead>\n",
       "  <tbody>\n",
       "    <tr>\n",
       "      <th>0</th>\n",
       "      <td>http://www.properati.com.ar/15bo8</td>\n",
       "      <td>venta</td>\n",
       "      <td>ph</td>\n",
       "      <td>mataderos</td>\n",
       "      <td>lavadero</td>\n",
       "      <td>patio</td>\n",
       "      <td>inmobiliaria</td>\n",
       "      <td>fedele</td>\n",
       "      <td>None</td>\n",
       "      <td>None</td>\n",
       "      <td>...</td>\n",
       "      <td>None</td>\n",
       "      <td>None</td>\n",
       "      <td>None</td>\n",
       "      <td>None</td>\n",
       "      <td>None</td>\n",
       "      <td>None</td>\n",
       "      <td>None</td>\n",
       "      <td>None</td>\n",
       "      <td>None</td>\n",
       "      <td>None</td>\n",
       "    </tr>\n",
       "    <tr>\n",
       "      <th>2</th>\n",
       "      <td>http://www.properati.com.ar/15bod</td>\n",
       "      <td>venta</td>\n",
       "      <td>departamentos</td>\n",
       "      <td>mataderos</td>\n",
       "      <td>lavadero</td>\n",
       "      <td>placard</td>\n",
       "      <td>inmobiliaria</td>\n",
       "      <td>fedele</td>\n",
       "      <td>None</td>\n",
       "      <td>None</td>\n",
       "      <td>...</td>\n",
       "      <td>None</td>\n",
       "      <td>None</td>\n",
       "      <td>None</td>\n",
       "      <td>None</td>\n",
       "      <td>None</td>\n",
       "      <td>None</td>\n",
       "      <td>None</td>\n",
       "      <td>None</td>\n",
       "      <td>None</td>\n",
       "      <td>None</td>\n",
       "    </tr>\n",
       "    <tr>\n",
       "      <th>3</th>\n",
       "      <td>http://www.properati.com.ar/15boh</td>\n",
       "      <td>venta</td>\n",
       "      <td>ph</td>\n",
       "      <td>liniers</td>\n",
       "      <td>patio</td>\n",
       "      <td>g</td>\n",
       "      <td>goffredo</td>\n",
       "      <td>None</td>\n",
       "      <td>None</td>\n",
       "      <td>None</td>\n",
       "      <td>...</td>\n",
       "      <td>None</td>\n",
       "      <td>None</td>\n",
       "      <td>None</td>\n",
       "      <td>None</td>\n",
       "      <td>None</td>\n",
       "      <td>None</td>\n",
       "      <td>None</td>\n",
       "      <td>None</td>\n",
       "      <td>None</td>\n",
       "      <td>None</td>\n",
       "    </tr>\n",
       "    <tr>\n",
       "      <th>6</th>\n",
       "      <td>http://www.properati.com.ar/15bor</td>\n",
       "      <td>venta</td>\n",
       "      <td>ph</td>\n",
       "      <td>munro</td>\n",
       "      <td>lavadero</td>\n",
       "      <td>patio</td>\n",
       "      <td>garage</td>\n",
       "      <td>alejandra</td>\n",
       "      <td>maradona</td>\n",
       "      <td>inmobiliaria</td>\n",
       "      <td>...</td>\n",
       "      <td>None</td>\n",
       "      <td>None</td>\n",
       "      <td>None</td>\n",
       "      <td>None</td>\n",
       "      <td>None</td>\n",
       "      <td>None</td>\n",
       "      <td>None</td>\n",
       "      <td>None</td>\n",
       "      <td>None</td>\n",
       "      <td>None</td>\n",
       "    </tr>\n",
       "    <tr>\n",
       "      <th>7</th>\n",
       "      <td>http://www.properati.com.ar/15bot</td>\n",
       "      <td>venta</td>\n",
       "      <td>departamentos</td>\n",
       "      <td>belgrano</td>\n",
       "      <td>lavadero</td>\n",
       "      <td>piscina</td>\n",
       "      <td>luminoso</td>\n",
       "      <td>estrenar</td>\n",
       "      <td>estilo</td>\n",
       "      <td>inmobiliario</td>\n",
       "      <td>...</td>\n",
       "      <td>None</td>\n",
       "      <td>None</td>\n",
       "      <td>None</td>\n",
       "      <td>None</td>\n",
       "      <td>None</td>\n",
       "      <td>None</td>\n",
       "      <td>None</td>\n",
       "      <td>None</td>\n",
       "      <td>None</td>\n",
       "      <td>None</td>\n",
       "    </tr>\n",
       "  </tbody>\n",
       "</table>\n",
       "<p>5 rows × 26 columns</p>\n",
       "</div>"
      ],
      "text/plain": [
       "                                  0      1              2          3   \\\n",
       "0  http://www.properati.com.ar/15bo8  venta             ph  mataderos   \n",
       "2  http://www.properati.com.ar/15bod  venta  departamentos  mataderos   \n",
       "3  http://www.properati.com.ar/15boh  venta             ph    liniers   \n",
       "6  http://www.properati.com.ar/15bor  venta             ph      munro   \n",
       "7  http://www.properati.com.ar/15bot  venta  departamentos   belgrano   \n",
       "\n",
       "         4        5             6          7         8             9   ...  \\\n",
       "0  lavadero    patio  inmobiliaria     fedele      None          None  ...   \n",
       "2  lavadero  placard  inmobiliaria     fedele      None          None  ...   \n",
       "3     patio        g      goffredo       None      None          None  ...   \n",
       "6  lavadero    patio        garage  alejandra  maradona  inmobiliaria  ...   \n",
       "7  lavadero  piscina      luminoso   estrenar    estilo  inmobiliario  ...   \n",
       "\n",
       "     16    17    18    19    20    21    22    23    24    25  \n",
       "0  None  None  None  None  None  None  None  None  None  None  \n",
       "2  None  None  None  None  None  None  None  None  None  None  \n",
       "3  None  None  None  None  None  None  None  None  None  None  \n",
       "6  None  None  None  None  None  None  None  None  None  None  \n",
       "7  None  None  None  None  None  None  None  None  None  None  \n",
       "\n",
       "[5 rows x 26 columns]"
      ]
     },
     "execution_count": 428,
     "metadata": {},
     "output_type": "execute_result"
    }
   ],
   "source": [
    "url.head(5)"
   ]
  },
  {
   "cell_type": "code",
   "execution_count": 429,
   "metadata": {},
   "outputs": [],
   "source": [
    "final_filtered_data = final_filtered_data.fillna(\"\")\n",
    "final_filtered_data = final_filtered_data[final_filtered_data['properati_url'].str.contains(r'^(?=.*gimnasio)(?=.*balcon)', flags=re.IGNORECASE, regex=True)]"
   ]
  },
  {
   "cell_type": "code",
   "execution_count": 430,
   "metadata": {},
   "outputs": [],
   "source": [
    "suma = np.product(final_filtered_data.shape)"
   ]
  },
  {
   "cell_type": "code",
   "execution_count": 431,
   "metadata": {},
   "outputs": [
    {
     "name": "stdout",
     "output_type": "stream",
     "text": [
      "70120\n"
     ]
    }
   ],
   "source": [
    "print(suma)"
   ]
  },
  {
   "cell_type": "code",
   "execution_count": 432,
   "metadata": {},
   "outputs": [
    {
     "data": {
      "text/html": [
       "<div>\n",
       "<style scoped>\n",
       "    .dataframe tbody tr th:only-of-type {\n",
       "        vertical-align: middle;\n",
       "    }\n",
       "\n",
       "    .dataframe tbody tr th {\n",
       "        vertical-align: top;\n",
       "    }\n",
       "\n",
       "    .dataframe thead th {\n",
       "        text-align: right;\n",
       "    }\n",
       "</style>\n",
       "<table border=\"1\" class=\"dataframe\">\n",
       "  <thead>\n",
       "    <tr style=\"text-align: right;\">\n",
       "      <th></th>\n",
       "      <th>property_type</th>\n",
       "      <th>place_name</th>\n",
       "      <th>place_with_parent_names</th>\n",
       "      <th>state_name</th>\n",
       "      <th>geonames_id</th>\n",
       "      <th>lat-lon</th>\n",
       "      <th>lat</th>\n",
       "      <th>lon</th>\n",
       "      <th>price</th>\n",
       "      <th>currency</th>\n",
       "      <th>price_aprox_local_currency</th>\n",
       "      <th>price_aprox_usd</th>\n",
       "      <th>surface_total_in_m2</th>\n",
       "      <th>surface_covered_in_m2</th>\n",
       "      <th>price_usd_per_m2</th>\n",
       "      <th>price_per_m2</th>\n",
       "      <th>rooms</th>\n",
       "      <th>properati_url</th>\n",
       "      <th>description</th>\n",
       "      <th>title</th>\n",
       "    </tr>\n",
       "  </thead>\n",
       "  <tbody>\n",
       "    <tr>\n",
       "      <th>50</th>\n",
       "      <td>apartment</td>\n",
       "      <td>San Isidro</td>\n",
       "      <td>|Argentina|Bs.As. G.B.A. Zona Norte|San Isidro|</td>\n",
       "      <td>Bs.As. G.B.A. Zona Norte</td>\n",
       "      <td>3,428,983.00</td>\n",
       "      <td>-34.4825362878,-58.5878735289</td>\n",
       "      <td>-34.48</td>\n",
       "      <td>-58.59</td>\n",
       "      <td>440,000.00</td>\n",
       "      <td>USD</td>\n",
       "      <td>7,763,580.00</td>\n",
       "      <td>440,000.00</td>\n",
       "      <td>142.00</td>\n",
       "      <td>122.00</td>\n",
       "      <td>3,098.59</td>\n",
       "      <td>3,606.56</td>\n",
       "      <td>4.00</td>\n",
       "      <td>http://www.properati.com.ar/15bud_venta_depart...</td>\n",
       "      <td>Departamento a estrenar en ARBORIS La Horqueta...</td>\n",
       "      <td>Excelente departamento a estrenar en Arboris L...</td>\n",
       "    </tr>\n",
       "    <tr>\n",
       "      <th>147</th>\n",
       "      <td>apartment</td>\n",
       "      <td>Benavidez</td>\n",
       "      <td>|Argentina|Bs.As. G.B.A. Zona Norte|Tigre|Bena...</td>\n",
       "      <td>Bs.As. G.B.A. Zona Norte</td>\n",
       "      <td>3,436,048.00</td>\n",
       "      <td>-34.40083,-58.677943</td>\n",
       "      <td>-34.40</td>\n",
       "      <td>-58.68</td>\n",
       "      <td>185,000.00</td>\n",
       "      <td>USD</td>\n",
       "      <td>3,264,232.50</td>\n",
       "      <td>185,000.00</td>\n",
       "      <td></td>\n",
       "      <td>100.00</td>\n",
       "      <td></td>\n",
       "      <td>1,850.00</td>\n",
       "      <td>3.00</td>\n",
       "      <td>http://www.properati.com.ar/15d8c_venta_depart...</td>\n",
       "      <td>Corredor Responsable: Mauro Marvisi - CMCPSI 5...</td>\n",
       "      <td>Departamento 2 dormitorios, 2 baños, parrilla.</td>\n",
       "    </tr>\n",
       "    <tr>\n",
       "      <th>219</th>\n",
       "      <td>apartment</td>\n",
       "      <td>Belgrano</td>\n",
       "      <td>|Argentina|Capital Federal|Belgrano|</td>\n",
       "      <td>Capital Federal</td>\n",
       "      <td>3,436,077.00</td>\n",
       "      <td>-34.565318066,-58.4417518602</td>\n",
       "      <td>-34.57</td>\n",
       "      <td>-58.44</td>\n",
       "      <td>1,100,000.00</td>\n",
       "      <td>USD</td>\n",
       "      <td>19,408,950.00</td>\n",
       "      <td>1,100,000.00</td>\n",
       "      <td>310.00</td>\n",
       "      <td>300.00</td>\n",
       "      <td>3,548.39</td>\n",
       "      <td>3,666.67</td>\n",
       "      <td>6.00</td>\n",
       "      <td>http://www.properati.com.ar/15dj3_venta_depart...</td>\n",
       "      <td>Piso  en  Belgrano  entre  Villanueva y Luis  ...</td>\n",
       "      <td>Impecable planta  5 Ambientes en La Mejor Zona...</td>\n",
       "    </tr>\n",
       "    <tr>\n",
       "      <th>244</th>\n",
       "      <td>apartment</td>\n",
       "      <td>Puerto Madero</td>\n",
       "      <td>|Argentina|Capital Federal|Puerto Madero|</td>\n",
       "      <td>Capital Federal</td>\n",
       "      <td>3,429,760.00</td>\n",
       "      <td>-34.6114635369,-58.3627451275</td>\n",
       "      <td>-34.61</td>\n",
       "      <td>-58.36</td>\n",
       "      <td>550,000.00</td>\n",
       "      <td>USD</td>\n",
       "      <td>9,704,475.00</td>\n",
       "      <td>550,000.00</td>\n",
       "      <td>109.00</td>\n",
       "      <td>99.00</td>\n",
       "      <td>5,045.87</td>\n",
       "      <td>5,555.56</td>\n",
       "      <td>4.00</td>\n",
       "      <td>http://www.properati.com.ar/15dnw_venta_depart...</td>\n",
       "      <td>- Departamento de 4 ambientes- Pasante- Cocher...</td>\n",
       "      <td>Departamento de 4 ambientes con cochera</td>\n",
       "    </tr>\n",
       "    <tr>\n",
       "      <th>252</th>\n",
       "      <td>apartment</td>\n",
       "      <td>Puerto Madero</td>\n",
       "      <td>|Argentina|Capital Federal|Puerto Madero|</td>\n",
       "      <td>Capital Federal</td>\n",
       "      <td>3,429,760.00</td>\n",
       "      <td>-34.6194333916,-58.3613734778</td>\n",
       "      <td>-34.62</td>\n",
       "      <td>-58.36</td>\n",
       "      <td>1,195,000.00</td>\n",
       "      <td>USD</td>\n",
       "      <td>21,085,177.50</td>\n",
       "      <td>1,195,000.00</td>\n",
       "      <td>198.00</td>\n",
       "      <td>185.00</td>\n",
       "      <td>6,035.35</td>\n",
       "      <td>6,459.46</td>\n",
       "      <td>4.00</td>\n",
       "      <td>http://www.properati.com.ar/15doj_venta_depart...</td>\n",
       "      <td>MADERO HARBOUR HOUSE. ESPECTACULAR DEPARTAMENT...</td>\n",
       "      <td>MADERO HARBOUR HOUSE</td>\n",
       "    </tr>\n",
       "  </tbody>\n",
       "</table>\n",
       "</div>"
      ],
      "text/plain": [
       "    property_type     place_name  \\\n",
       "50      apartment     San Isidro   \n",
       "147     apartment      Benavidez   \n",
       "219     apartment       Belgrano   \n",
       "244     apartment  Puerto Madero   \n",
       "252     apartment  Puerto Madero   \n",
       "\n",
       "                               place_with_parent_names  \\\n",
       "50     |Argentina|Bs.As. G.B.A. Zona Norte|San Isidro|   \n",
       "147  |Argentina|Bs.As. G.B.A. Zona Norte|Tigre|Bena...   \n",
       "219               |Argentina|Capital Federal|Belgrano|   \n",
       "244          |Argentina|Capital Federal|Puerto Madero|   \n",
       "252          |Argentina|Capital Federal|Puerto Madero|   \n",
       "\n",
       "                   state_name  geonames_id                        lat-lon  \\\n",
       "50   Bs.As. G.B.A. Zona Norte 3,428,983.00  -34.4825362878,-58.5878735289   \n",
       "147  Bs.As. G.B.A. Zona Norte 3,436,048.00           -34.40083,-58.677943   \n",
       "219           Capital Federal 3,436,077.00   -34.565318066,-58.4417518602   \n",
       "244           Capital Federal 3,429,760.00  -34.6114635369,-58.3627451275   \n",
       "252           Capital Federal 3,429,760.00  -34.6194333916,-58.3613734778   \n",
       "\n",
       "       lat    lon        price currency price_aprox_local_currency  \\\n",
       "50  -34.48 -58.59   440,000.00      USD               7,763,580.00   \n",
       "147 -34.40 -58.68   185,000.00      USD               3,264,232.50   \n",
       "219 -34.57 -58.44 1,100,000.00      USD              19,408,950.00   \n",
       "244 -34.61 -58.36   550,000.00      USD               9,704,475.00   \n",
       "252 -34.62 -58.36 1,195,000.00      USD              21,085,177.50   \n",
       "\n",
       "    price_aprox_usd surface_total_in_m2 surface_covered_in_m2  \\\n",
       "50       440,000.00              142.00                122.00   \n",
       "147      185,000.00                                    100.00   \n",
       "219    1,100,000.00              310.00                300.00   \n",
       "244      550,000.00              109.00                 99.00   \n",
       "252    1,195,000.00              198.00                185.00   \n",
       "\n",
       "    price_usd_per_m2 price_per_m2 rooms  \\\n",
       "50          3,098.59     3,606.56  4.00   \n",
       "147                      1,850.00  3.00   \n",
       "219         3,548.39     3,666.67  6.00   \n",
       "244         5,045.87     5,555.56  4.00   \n",
       "252         6,035.35     6,459.46  4.00   \n",
       "\n",
       "                                         properati_url  \\\n",
       "50   http://www.properati.com.ar/15bud_venta_depart...   \n",
       "147  http://www.properati.com.ar/15d8c_venta_depart...   \n",
       "219  http://www.properati.com.ar/15dj3_venta_depart...   \n",
       "244  http://www.properati.com.ar/15dnw_venta_depart...   \n",
       "252  http://www.properati.com.ar/15doj_venta_depart...   \n",
       "\n",
       "                                           description  \\\n",
       "50   Departamento a estrenar en ARBORIS La Horqueta...   \n",
       "147  Corredor Responsable: Mauro Marvisi - CMCPSI 5...   \n",
       "219  Piso  en  Belgrano  entre  Villanueva y Luis  ...   \n",
       "244  - Departamento de 4 ambientes- Pasante- Cocher...   \n",
       "252  MADERO HARBOUR HOUSE. ESPECTACULAR DEPARTAMENT...   \n",
       "\n",
       "                                                 title  \n",
       "50   Excelente departamento a estrenar en Arboris L...  \n",
       "147     Departamento 2 dormitorios, 2 baños, parrilla.  \n",
       "219  Impecable planta  5 Ambientes en La Mejor Zona...  \n",
       "244            Departamento de 4 ambientes con cochera  \n",
       "252                               MADERO HARBOUR HOUSE  "
      ]
     },
     "execution_count": 432,
     "metadata": {},
     "output_type": "execute_result"
    }
   ],
   "source": [
    "final_filtered_data.head()"
   ]
  },
  {
   "cell_type": "code",
   "execution_count": 433,
   "metadata": {},
   "outputs": [],
   "source": [
    "url.drop([0, 1, 2, 3], axis=1, inplace=True)"
   ]
  },
  {
   "cell_type": "code",
   "execution_count": 434,
   "metadata": {},
   "outputs": [
    {
     "data": {
      "text/html": [
       "<div>\n",
       "<style scoped>\n",
       "    .dataframe tbody tr th:only-of-type {\n",
       "        vertical-align: middle;\n",
       "    }\n",
       "\n",
       "    .dataframe tbody tr th {\n",
       "        vertical-align: top;\n",
       "    }\n",
       "\n",
       "    .dataframe thead th {\n",
       "        text-align: right;\n",
       "    }\n",
       "</style>\n",
       "<table border=\"1\" class=\"dataframe\">\n",
       "  <thead>\n",
       "    <tr style=\"text-align: right;\">\n",
       "      <th></th>\n",
       "      <th>4</th>\n",
       "      <th>5</th>\n",
       "      <th>6</th>\n",
       "      <th>7</th>\n",
       "      <th>8</th>\n",
       "      <th>9</th>\n",
       "      <th>10</th>\n",
       "      <th>11</th>\n",
       "      <th>12</th>\n",
       "      <th>13</th>\n",
       "      <th>...</th>\n",
       "      <th>16</th>\n",
       "      <th>17</th>\n",
       "      <th>18</th>\n",
       "      <th>19</th>\n",
       "      <th>20</th>\n",
       "      <th>21</th>\n",
       "      <th>22</th>\n",
       "      <th>23</th>\n",
       "      <th>24</th>\n",
       "      <th>25</th>\n",
       "    </tr>\n",
       "  </thead>\n",
       "  <tbody>\n",
       "    <tr>\n",
       "      <th>0</th>\n",
       "      <td>lavadero</td>\n",
       "      <td>patio</td>\n",
       "      <td>inmobiliaria</td>\n",
       "      <td>fedele</td>\n",
       "      <td>None</td>\n",
       "      <td>None</td>\n",
       "      <td>None</td>\n",
       "      <td>None</td>\n",
       "      <td>None</td>\n",
       "      <td>None</td>\n",
       "      <td>...</td>\n",
       "      <td>None</td>\n",
       "      <td>None</td>\n",
       "      <td>None</td>\n",
       "      <td>None</td>\n",
       "      <td>None</td>\n",
       "      <td>None</td>\n",
       "      <td>None</td>\n",
       "      <td>None</td>\n",
       "      <td>None</td>\n",
       "      <td>None</td>\n",
       "    </tr>\n",
       "    <tr>\n",
       "      <th>2</th>\n",
       "      <td>lavadero</td>\n",
       "      <td>placard</td>\n",
       "      <td>inmobiliaria</td>\n",
       "      <td>fedele</td>\n",
       "      <td>None</td>\n",
       "      <td>None</td>\n",
       "      <td>None</td>\n",
       "      <td>None</td>\n",
       "      <td>None</td>\n",
       "      <td>None</td>\n",
       "      <td>...</td>\n",
       "      <td>None</td>\n",
       "      <td>None</td>\n",
       "      <td>None</td>\n",
       "      <td>None</td>\n",
       "      <td>None</td>\n",
       "      <td>None</td>\n",
       "      <td>None</td>\n",
       "      <td>None</td>\n",
       "      <td>None</td>\n",
       "      <td>None</td>\n",
       "    </tr>\n",
       "    <tr>\n",
       "      <th>3</th>\n",
       "      <td>patio</td>\n",
       "      <td>g</td>\n",
       "      <td>goffredo</td>\n",
       "      <td>None</td>\n",
       "      <td>None</td>\n",
       "      <td>None</td>\n",
       "      <td>None</td>\n",
       "      <td>None</td>\n",
       "      <td>None</td>\n",
       "      <td>None</td>\n",
       "      <td>...</td>\n",
       "      <td>None</td>\n",
       "      <td>None</td>\n",
       "      <td>None</td>\n",
       "      <td>None</td>\n",
       "      <td>None</td>\n",
       "      <td>None</td>\n",
       "      <td>None</td>\n",
       "      <td>None</td>\n",
       "      <td>None</td>\n",
       "      <td>None</td>\n",
       "    </tr>\n",
       "    <tr>\n",
       "      <th>6</th>\n",
       "      <td>lavadero</td>\n",
       "      <td>patio</td>\n",
       "      <td>garage</td>\n",
       "      <td>alejandra</td>\n",
       "      <td>maradona</td>\n",
       "      <td>inmobiliaria</td>\n",
       "      <td>None</td>\n",
       "      <td>None</td>\n",
       "      <td>None</td>\n",
       "      <td>None</td>\n",
       "      <td>...</td>\n",
       "      <td>None</td>\n",
       "      <td>None</td>\n",
       "      <td>None</td>\n",
       "      <td>None</td>\n",
       "      <td>None</td>\n",
       "      <td>None</td>\n",
       "      <td>None</td>\n",
       "      <td>None</td>\n",
       "      <td>None</td>\n",
       "      <td>None</td>\n",
       "    </tr>\n",
       "    <tr>\n",
       "      <th>7</th>\n",
       "      <td>lavadero</td>\n",
       "      <td>piscina</td>\n",
       "      <td>luminoso</td>\n",
       "      <td>estrenar</td>\n",
       "      <td>estilo</td>\n",
       "      <td>inmobiliario</td>\n",
       "      <td>dl8</td>\n",
       "      <td>None</td>\n",
       "      <td>None</td>\n",
       "      <td>None</td>\n",
       "      <td>...</td>\n",
       "      <td>None</td>\n",
       "      <td>None</td>\n",
       "      <td>None</td>\n",
       "      <td>None</td>\n",
       "      <td>None</td>\n",
       "      <td>None</td>\n",
       "      <td>None</td>\n",
       "      <td>None</td>\n",
       "      <td>None</td>\n",
       "      <td>None</td>\n",
       "    </tr>\n",
       "  </tbody>\n",
       "</table>\n",
       "<p>5 rows × 22 columns</p>\n",
       "</div>"
      ],
      "text/plain": [
       "         4        5             6          7         8             9     10  \\\n",
       "0  lavadero    patio  inmobiliaria     fedele      None          None  None   \n",
       "2  lavadero  placard  inmobiliaria     fedele      None          None  None   \n",
       "3     patio        g      goffredo       None      None          None  None   \n",
       "6  lavadero    patio        garage  alejandra  maradona  inmobiliaria  None   \n",
       "7  lavadero  piscina      luminoso   estrenar    estilo  inmobiliario   dl8   \n",
       "\n",
       "     11    12    13  ...    16    17    18    19    20    21    22    23  \\\n",
       "0  None  None  None  ...  None  None  None  None  None  None  None  None   \n",
       "2  None  None  None  ...  None  None  None  None  None  None  None  None   \n",
       "3  None  None  None  ...  None  None  None  None  None  None  None  None   \n",
       "6  None  None  None  ...  None  None  None  None  None  None  None  None   \n",
       "7  None  None  None  ...  None  None  None  None  None  None  None  None   \n",
       "\n",
       "     24    25  \n",
       "0  None  None  \n",
       "2  None  None  \n",
       "3  None  None  \n",
       "6  None  None  \n",
       "7  None  None  \n",
       "\n",
       "[5 rows x 22 columns]"
      ]
     },
     "execution_count": 434,
     "metadata": {},
     "output_type": "execute_result"
    }
   ],
   "source": [
    "url.head()"
   ]
  },
  {
   "cell_type": "code",
   "execution_count": 435,
   "metadata": {},
   "outputs": [
    {
     "data": {
      "text/plain": [
       "property_type                 0\n",
       "place_name                    0\n",
       "place_with_parent_names       0\n",
       "state_name                    0\n",
       "geonames_id                   0\n",
       "lat-lon                       0\n",
       "lat                           0\n",
       "lon                           0\n",
       "price                         0\n",
       "currency                      0\n",
       "price_aprox_local_currency    0\n",
       "price_aprox_usd               0\n",
       "surface_total_in_m2           0\n",
       "surface_covered_in_m2         0\n",
       "price_usd_per_m2              0\n",
       "price_per_m2                  0\n",
       "rooms                         0\n",
       "properati_url                 0\n",
       "description                   0\n",
       "title                         0\n",
       "dtype: int64"
      ]
     },
     "execution_count": 435,
     "metadata": {},
     "output_type": "execute_result"
    }
   ],
   "source": [
    "final_filtered_data.isna().sum()"
   ]
  },
  {
   "cell_type": "code",
   "execution_count": 436,
   "metadata": {},
   "outputs": [],
   "source": [
    "final_filtered_data.replace('NAN', np.NaN, inplace=True)"
   ]
  },
  {
   "cell_type": "code",
   "execution_count": 437,
   "metadata": {},
   "outputs": [
    {
     "data": {
      "text/plain": [
       "property_type                 0\n",
       "place_name                    0\n",
       "place_with_parent_names       0\n",
       "state_name                    0\n",
       "geonames_id                   0\n",
       "lat-lon                       0\n",
       "lat                           0\n",
       "lon                           0\n",
       "price                         0\n",
       "currency                      0\n",
       "price_aprox_local_currency    0\n",
       "price_aprox_usd               0\n",
       "surface_total_in_m2           0\n",
       "surface_covered_in_m2         0\n",
       "price_usd_per_m2              0\n",
       "price_per_m2                  0\n",
       "rooms                         0\n",
       "properati_url                 0\n",
       "description                   0\n",
       "title                         0\n",
       "dtype: int64"
      ]
     },
     "execution_count": 437,
     "metadata": {},
     "output_type": "execute_result"
    }
   ],
   "source": [
    "final_filtered_data.isna().sum()"
   ]
  },
  {
   "cell_type": "code",
   "execution_count": 438,
   "metadata": {},
   "outputs": [
    {
     "data": {
      "text/plain": [
       "property_type                0.00\n",
       "place_name                   0.00\n",
       "place_with_parent_names      0.00\n",
       "state_name                   0.00\n",
       "geonames_id                  0.00\n",
       "lat-lon                      0.00\n",
       "lat                          0.00\n",
       "lon                          0.00\n",
       "price                        0.00\n",
       "currency                     0.00\n",
       "price_aprox_local_currency   0.00\n",
       "price_aprox_usd              0.00\n",
       "surface_total_in_m2          0.00\n",
       "surface_covered_in_m2        0.00\n",
       "price_usd_per_m2             0.00\n",
       "price_per_m2                 0.00\n",
       "rooms                        0.00\n",
       "properati_url                0.00\n",
       "description                  0.00\n",
       "title                        0.00\n",
       "dtype: float64"
      ]
     },
     "execution_count": 438,
     "metadata": {},
     "output_type": "execute_result"
    }
   ],
   "source": [
    "(final_filtered_data.isnull().sum() / len(final_filtered_data)*100)"
   ]
  },
  {
   "cell_type": "code",
   "execution_count": 439,
   "metadata": {},
   "outputs": [
    {
     "data": {
      "text/plain": [
       "50       4.00\n",
       "147      3.00\n",
       "219      6.00\n",
       "244      4.00\n",
       "252      4.00\n",
       "         ... \n",
       "121093       \n",
       "121120       \n",
       "121138       \n",
       "121148       \n",
       "121213       \n",
       "Name: rooms, Length: 3506, dtype: object"
      ]
     },
     "execution_count": 439,
     "metadata": {},
     "output_type": "execute_result"
    }
   ],
   "source": [
    "final_filtered_data.rooms[~final_filtered_data.rooms.isnull()]"
   ]
  },
  {
   "cell_type": "code",
   "execution_count": 440,
   "metadata": {},
   "outputs": [
    {
     "data": {
      "text/plain": [
       "0.0"
      ]
     },
     "execution_count": 440,
     "metadata": {},
     "output_type": "execute_result"
    }
   ],
   "source": [
    "final_filtered_data.rooms.isnull().sum() * 100 / len(final_filtered_data)"
   ]
  },
  {
   "cell_type": "code",
   "execution_count": 441,
   "metadata": {},
   "outputs": [],
   "source": [
    "#\\d= any number (a digit)\n",
    "#\\d represents a digit.Ex: \\d{1,5} it will declare digit between 1,5 like 424,444,545 etc.\n",
    "#\\n = new line\n",
    "#. + * ? [] $ ^ () {} | \\\n",
    "var = [\"cua\", \"amb\"]\n",
    "patron = r\"(\\d \" + var[1] + \")\"\n",
    "regex = re.compile(patron)\n",
    "description_series = final_filtered_data['description'].str.lower()\n",
    "description_series = description_series.apply(lambda x: str(x))\n",
    "resultado_ambientes = description_series.apply(lambda x: regex.findall(x))"
   ]
  },
  {
   "cell_type": "code",
   "execution_count": 442,
   "metadata": {},
   "outputs": [
    {
     "data": {
      "text/plain": [
       "50             []\n",
       "147            []\n",
       "219            []\n",
       "244       [4 amb]\n",
       "252            []\n",
       "           ...   \n",
       "121093         []\n",
       "121120    [2 amb]\n",
       "121138    [2 amb]\n",
       "121148         []\n",
       "121213         []\n",
       "Name: description, Length: 3506, dtype: object"
      ]
     },
     "execution_count": 442,
     "metadata": {},
     "output_type": "execute_result"
    }
   ],
   "source": [
    "resultado_ambientes"
   ]
  },
  {
   "cell_type": "code",
   "execution_count": 443,
   "metadata": {},
   "outputs": [
    {
     "data": {
      "text/plain": [
       "2074"
      ]
     },
     "execution_count": 443,
     "metadata": {},
     "output_type": "execute_result"
    }
   ],
   "source": [
    "len([i for i in resultado_ambientes if i])"
   ]
  },
  {
   "cell_type": "code",
   "execution_count": 444,
   "metadata": {},
   "outputs": [],
   "source": [
    "resultado_ambientes = resultado_ambientes.apply(lambda x: x[0] if len(x) != 0 else np.NaN )\n",
    "resultado_ambientes = resultado_ambientes.str.split('amb')"
   ]
  },
  {
   "cell_type": "code",
   "execution_count": 445,
   "metadata": {},
   "outputs": [],
   "source": [
    "resultado_ambientes = resultado_ambientes.apply(lambda x: x[0] if x is not np.NaN else np.NaN )"
   ]
  },
  {
   "cell_type": "code",
   "execution_count": 446,
   "metadata": {},
   "outputs": [
    {
     "data": {
      "text/plain": [
       "50        NaN\n",
       "147       NaN\n",
       "219       NaN\n",
       "244        4 \n",
       "252       NaN\n",
       "         ... \n",
       "121093    NaN\n",
       "121120     2 \n",
       "121138     2 \n",
       "121148    NaN\n",
       "121213    NaN\n",
       "Name: description, Length: 3506, dtype: object"
      ]
     },
     "execution_count": 446,
     "metadata": {},
     "output_type": "execute_result"
    }
   ],
   "source": [
    "resultado_ambientes"
   ]
  },
  {
   "cell_type": "code",
   "execution_count": 447,
   "metadata": {},
   "outputs": [],
   "source": [
    "final_filtered_data['ambientes'] = resultado_ambientes"
   ]
  },
  {
   "cell_type": "code",
   "execution_count": 448,
   "metadata": {},
   "outputs": [
    {
     "data": {
      "text/plain": [
       "50        NaN\n",
       "147       NaN\n",
       "219       NaN\n",
       "244        4 \n",
       "252       NaN\n",
       "         ... \n",
       "121093    NaN\n",
       "121120     2 \n",
       "121138     2 \n",
       "121148    NaN\n",
       "121213    NaN\n",
       "Name: ambientes, Length: 3506, dtype: object"
      ]
     },
     "execution_count": 448,
     "metadata": {},
     "output_type": "execute_result"
    }
   ],
   "source": [
    "final_filtered_data.ambientes"
   ]
  },
  {
   "cell_type": "code",
   "execution_count": 449,
   "metadata": {},
   "outputs": [],
   "source": [
    "# Completamos los registros faltantes de rooms con los datos extraídos de la descripción\n",
    "final_filtered_data['rooms'] = final_filtered_data['rooms'].fillna(final_filtered_data['ambientes'])"
   ]
  },
  {
   "cell_type": "code",
   "execution_count": 450,
   "metadata": {},
   "outputs": [
    {
     "data": {
      "text/plain": [
       "50       4.00\n",
       "147      3.00\n",
       "219      6.00\n",
       "244      4.00\n",
       "252      4.00\n",
       "         ... \n",
       "121093       \n",
       "121120       \n",
       "121138       \n",
       "121148       \n",
       "121213       \n",
       "Name: rooms, Length: 3506, dtype: object"
      ]
     },
     "execution_count": 450,
     "metadata": {},
     "output_type": "execute_result"
    }
   ],
   "source": [
    "final_filtered_data.rooms"
   ]
  },
  {
   "cell_type": "code",
   "execution_count": 451,
   "metadata": {},
   "outputs": [
    {
     "data": {
      "text/plain": [
       "0.0"
      ]
     },
     "execution_count": 451,
     "metadata": {},
     "output_type": "execute_result"
    }
   ],
   "source": [
    "# Bajamos de 66% a 45% de datos faltantes\n",
    "final_filtered_data.rooms.isnull().sum()*100 /len(final_filtered_data)"
   ]
  },
  {
   "cell_type": "code",
   "execution_count": 452,
   "metadata": {},
   "outputs": [],
   "source": [
    "patron_price = \"(dls|usd|ars|\\$)\\s?(\\d{5,8})|(\\d{5,8})\\s?(dls|usd|ars|\\$)\"\n",
    "regex_price = re.compile(patron_price)\n",
    "description_series = final_filtered_data['description'].str.lower()\n",
    "description_series = description_series.apply(lambda x: str(x))\n",
    "resultado_price = description_series.apply(lambda x: regex_price.findall(x))"
   ]
  },
  {
   "cell_type": "code",
   "execution_count": 453,
   "metadata": {},
   "outputs": [
    {
     "data": {
      "text/plain": [
       "112640    []\n",
       "110334    []\n",
       "91066     []\n",
       "28331     []\n",
       "50502     []\n",
       "107118    []\n",
       "101213    []\n",
       "60663     []\n",
       "54344     []\n",
       "15248     []\n",
       "108435    []\n",
       "5973      []\n",
       "5960      []\n",
       "95937     []\n",
       "107110    []\n",
       "Name: description, dtype: object"
      ]
     },
     "execution_count": 453,
     "metadata": {},
     "output_type": "execute_result"
    }
   ],
   "source": [
    "resultado_price.sample(15)"
   ]
  },
  {
   "cell_type": "code",
   "execution_count": 454,
   "metadata": {},
   "outputs": [
    {
     "data": {
      "text/plain": [
       "[[('usd', '95000', '', '')],\n",
       " [('usd', '181000', '', '')],\n",
       " [('usd', '190000', '', '')],\n",
       " [('usd', '40000', '', '')],\n",
       " [('usd', '40000', '', '')],\n",
       " [('usd', '40000', '', '')],\n",
       " [('usd', '40000', '', '')],\n",
       " [('usd', '40000', '', '')],\n",
       " [('usd', '145000', '', '')],\n",
       " [('usd', '640000', '', '')]]"
      ]
     },
     "execution_count": 454,
     "metadata": {},
     "output_type": "execute_result"
    }
   ],
   "source": [
    "no_vacias = [i for i in resultado_price if i]\n",
    "no_vacias[0:10]"
   ]
  },
  {
   "cell_type": "code",
   "execution_count": 455,
   "metadata": {},
   "outputs": [],
   "source": [
    "precio_2 = resultado_price.apply(lambda x: x[0][1] if ((len(x) != 0)) else np.NaN )\n",
    "precio_2.to_csv('precio.csv', encoding='utf-8')"
   ]
  },
  {
   "cell_type": "code",
   "execution_count": 456,
   "metadata": {},
   "outputs": [
    {
     "data": {
      "text/plain": [
       "nan"
      ]
     },
     "execution_count": 456,
     "metadata": {},
     "output_type": "execute_result"
    }
   ],
   "source": [
    "precio_1 = resultado_price.apply(lambda x: x[0][0] if ((len(x) != 0)) else np.NaN )\n",
    "precio_1.iloc[270]"
   ]
  },
  {
   "cell_type": "code",
   "execution_count": 457,
   "metadata": {},
   "outputs": [
    {
     "data": {
      "text/html": [
       "<div>\n",
       "<style scoped>\n",
       "    .dataframe tbody tr th:only-of-type {\n",
       "        vertical-align: middle;\n",
       "    }\n",
       "\n",
       "    .dataframe tbody tr th {\n",
       "        vertical-align: top;\n",
       "    }\n",
       "\n",
       "    .dataframe thead th {\n",
       "        text-align: right;\n",
       "    }\n",
       "</style>\n",
       "<table border=\"1\" class=\"dataframe\">\n",
       "  <thead>\n",
       "    <tr style=\"text-align: right;\">\n",
       "      <th></th>\n",
       "      <th>property_type</th>\n",
       "      <th>place_name</th>\n",
       "      <th>place_with_parent_names</th>\n",
       "      <th>state_name</th>\n",
       "      <th>geonames_id</th>\n",
       "      <th>lat-lon</th>\n",
       "      <th>lat</th>\n",
       "      <th>lon</th>\n",
       "      <th>price</th>\n",
       "      <th>currency</th>\n",
       "      <th>...</th>\n",
       "      <th>surface_covered_in_m2</th>\n",
       "      <th>price_usd_per_m2</th>\n",
       "      <th>price_per_m2</th>\n",
       "      <th>rooms</th>\n",
       "      <th>properati_url</th>\n",
       "      <th>description</th>\n",
       "      <th>title</th>\n",
       "      <th>ambientes</th>\n",
       "      <th>precio_relleno</th>\n",
       "      <th>precio_relleno_mon</th>\n",
       "    </tr>\n",
       "  </thead>\n",
       "  <tbody>\n",
       "    <tr>\n",
       "      <th>7697</th>\n",
       "      <td>apartment</td>\n",
       "      <td>Caballito</td>\n",
       "      <td>|Argentina|Capital Federal|Caballito|</td>\n",
       "      <td>Capital Federal</td>\n",
       "      <td>3,435,874.00</td>\n",
       "      <td>-34.6036844,-58.3815591</td>\n",
       "      <td>-34.60</td>\n",
       "      <td>-58.38</td>\n",
       "      <td>310,000.00</td>\n",
       "      <td>USD</td>\n",
       "      <td>...</td>\n",
       "      <td>72.00</td>\n",
       "      <td>4,025.97</td>\n",
       "      <td>4,305.56</td>\n",
       "      <td>3.00</td>\n",
       "      <td>http://www.properati.com.ar/15yt1_venta_depart...</td>\n",
       "      <td>DEPARTAMENTO TRES AMBIENTES A ESTRENAR .FRENTE...</td>\n",
       "      <td>DEPARTAMENTO EN VENTA</td>\n",
       "      <td>NaN</td>\n",
       "      <td>NaN</td>\n",
       "      <td>NaN</td>\n",
       "    </tr>\n",
       "    <tr>\n",
       "      <th>97040</th>\n",
       "      <td>apartment</td>\n",
       "      <td>Beccar</td>\n",
       "      <td>|Argentina|Bs.As. G.B.A. Zona Norte|San Isidro...</td>\n",
       "      <td>Bs.As. G.B.A. Zona Norte</td>\n",
       "      <td>3,436,080.00</td>\n",
       "      <td></td>\n",
       "      <td></td>\n",
       "      <td></td>\n",
       "      <td>139,000.00</td>\n",
       "      <td>USD</td>\n",
       "      <td>...</td>\n",
       "      <td>50.00</td>\n",
       "      <td>2,780.00</td>\n",
       "      <td>2,780.00</td>\n",
       "      <td></td>\n",
       "      <td>http://www.properati.com.ar/1bji3_venta_depart...</td>\n",
       "      <td>Departamento 2 ambientes en torre con excelent...</td>\n",
       "      <td>Departamento 2 ambientes con balcon y cochera ...</td>\n",
       "      <td>2</td>\n",
       "      <td>NaN</td>\n",
       "      <td>NaN</td>\n",
       "    </tr>\n",
       "    <tr>\n",
       "      <th>46318</th>\n",
       "      <td>apartment</td>\n",
       "      <td>Tigre</td>\n",
       "      <td>|Argentina|Bs.As. G.B.A. Zona Norte|Tigre|Tigre|</td>\n",
       "      <td>Bs.As. G.B.A. Zona Norte</td>\n",
       "      <td></td>\n",
       "      <td>-34.4303409,-58.5711787</td>\n",
       "      <td>-34.43</td>\n",
       "      <td>-58.57</td>\n",
       "      <td>125,200.00</td>\n",
       "      <td>USD</td>\n",
       "      <td>...</td>\n",
       "      <td>60.00</td>\n",
       "      <td>2,019.35</td>\n",
       "      <td>2,086.67</td>\n",
       "      <td>2.00</td>\n",
       "      <td>http://www.properati.com.ar/195wd_venta_depart...</td>\n",
       "      <td>VENTA DESDE POZO!!! PROYECTO \"EDIFICIO TIGRE V...</td>\n",
       "      <td>Cazón al 500 1° D VENTA DESDE POZO! PROYECTO</td>\n",
       "      <td>NaN</td>\n",
       "      <td>NaN</td>\n",
       "      <td>NaN</td>\n",
       "    </tr>\n",
       "    <tr>\n",
       "      <th>7614</th>\n",
       "      <td>house</td>\n",
       "      <td>San Isidro</td>\n",
       "      <td>|Argentina|Bs.As. G.B.A. Zona Norte|San Isidro...</td>\n",
       "      <td>Bs.As. G.B.A. Zona Norte</td>\n",
       "      <td>3,428,983.00</td>\n",
       "      <td>-34.478746,-58.553091</td>\n",
       "      <td>-34.48</td>\n",
       "      <td>-58.55</td>\n",
       "      <td>980,000.00</td>\n",
       "      <td>USD</td>\n",
       "      <td>...</td>\n",
       "      <td>689.00</td>\n",
       "      <td></td>\n",
       "      <td>1,422.35</td>\n",
       "      <td>6.00</td>\n",
       "      <td>http://www.properati.com.ar/15yfm_venta_casa_s...</td>\n",
       "      <td>Corredor Responsable: Mauro Marvisi - CMCPSI 5...</td>\n",
       "      <td>EXCELENTE RESIDENCIA EN LOMAS DE SAN ISIDRO</td>\n",
       "      <td>NaN</td>\n",
       "      <td>NaN</td>\n",
       "      <td>NaN</td>\n",
       "    </tr>\n",
       "    <tr>\n",
       "      <th>78353</th>\n",
       "      <td>apartment</td>\n",
       "      <td>Nordelta</td>\n",
       "      <td>|Argentina|Bs.As. G.B.A. Zona Norte|Tigre|Nord...</td>\n",
       "      <td>Bs.As. G.B.A. Zona Norte</td>\n",
       "      <td></td>\n",
       "      <td></td>\n",
       "      <td></td>\n",
       "      <td></td>\n",
       "      <td>3,732,559.00</td>\n",
       "      <td>ARS</td>\n",
       "      <td>...</td>\n",
       "      <td>69.00</td>\n",
       "      <td>1,730.05</td>\n",
       "      <td>54,095.06</td>\n",
       "      <td></td>\n",
       "      <td>http://www.properati.com.ar/1au1c_venta_depart...</td>\n",
       "      <td>Departamento de 2 ambientes con Jardin y vista...</td>\n",
       "      <td>Venta en Pozo Acqua Rio Nordelta</td>\n",
       "      <td>2</td>\n",
       "      <td>NaN</td>\n",
       "      <td>NaN</td>\n",
       "    </tr>\n",
       "  </tbody>\n",
       "</table>\n",
       "<p>5 rows × 23 columns</p>\n",
       "</div>"
      ],
      "text/plain": [
       "      property_type  place_name  \\\n",
       "7697      apartment   Caballito   \n",
       "97040     apartment      Beccar   \n",
       "46318     apartment       Tigre   \n",
       "7614          house  San Isidro   \n",
       "78353     apartment    Nordelta   \n",
       "\n",
       "                                 place_with_parent_names  \\\n",
       "7697               |Argentina|Capital Federal|Caballito|   \n",
       "97040  |Argentina|Bs.As. G.B.A. Zona Norte|San Isidro...   \n",
       "46318   |Argentina|Bs.As. G.B.A. Zona Norte|Tigre|Tigre|   \n",
       "7614   |Argentina|Bs.As. G.B.A. Zona Norte|San Isidro...   \n",
       "78353  |Argentina|Bs.As. G.B.A. Zona Norte|Tigre|Nord...   \n",
       "\n",
       "                     state_name  geonames_id                  lat-lon    lat  \\\n",
       "7697            Capital Federal 3,435,874.00  -34.6036844,-58.3815591 -34.60   \n",
       "97040  Bs.As. G.B.A. Zona Norte 3,436,080.00                                   \n",
       "46318  Bs.As. G.B.A. Zona Norte               -34.4303409,-58.5711787 -34.43   \n",
       "7614   Bs.As. G.B.A. Zona Norte 3,428,983.00    -34.478746,-58.553091 -34.48   \n",
       "78353  Bs.As. G.B.A. Zona Norte                                                \n",
       "\n",
       "         lon        price currency  ... surface_covered_in_m2  \\\n",
       "7697  -58.38   310,000.00      USD  ...                 72.00   \n",
       "97040          139,000.00      USD  ...                 50.00   \n",
       "46318 -58.57   125,200.00      USD  ...                 60.00   \n",
       "7614  -58.55   980,000.00      USD  ...                689.00   \n",
       "78353        3,732,559.00      ARS  ...                 69.00   \n",
       "\n",
       "      price_usd_per_m2 price_per_m2 rooms  \\\n",
       "7697          4,025.97     4,305.56  3.00   \n",
       "97040         2,780.00     2,780.00         \n",
       "46318         2,019.35     2,086.67  2.00   \n",
       "7614                       1,422.35  6.00   \n",
       "78353         1,730.05    54,095.06         \n",
       "\n",
       "                                           properati_url  \\\n",
       "7697   http://www.properati.com.ar/15yt1_venta_depart...   \n",
       "97040  http://www.properati.com.ar/1bji3_venta_depart...   \n",
       "46318  http://www.properati.com.ar/195wd_venta_depart...   \n",
       "7614   http://www.properati.com.ar/15yfm_venta_casa_s...   \n",
       "78353  http://www.properati.com.ar/1au1c_venta_depart...   \n",
       "\n",
       "                                             description  \\\n",
       "7697   DEPARTAMENTO TRES AMBIENTES A ESTRENAR .FRENTE...   \n",
       "97040  Departamento 2 ambientes en torre con excelent...   \n",
       "46318  VENTA DESDE POZO!!! PROYECTO \"EDIFICIO TIGRE V...   \n",
       "7614   Corredor Responsable: Mauro Marvisi - CMCPSI 5...   \n",
       "78353  Departamento de 2 ambientes con Jardin y vista...   \n",
       "\n",
       "                                                   title ambientes  \\\n",
       "7697                               DEPARTAMENTO EN VENTA       NaN   \n",
       "97040  Departamento 2 ambientes con balcon y cochera ...        2    \n",
       "46318      Cazón al 500 1° D VENTA DESDE POZO! PROYECTO        NaN   \n",
       "7614         EXCELENTE RESIDENCIA EN LOMAS DE SAN ISIDRO       NaN   \n",
       "78353                   Venta en Pozo Acqua Rio Nordelta        2    \n",
       "\n",
       "      precio_relleno precio_relleno_mon  \n",
       "7697             NaN                NaN  \n",
       "97040            NaN                NaN  \n",
       "46318            NaN                NaN  \n",
       "7614             NaN                NaN  \n",
       "78353            NaN                NaN  \n",
       "\n",
       "[5 rows x 23 columns]"
      ]
     },
     "execution_count": 457,
     "metadata": {},
     "output_type": "execute_result"
    }
   ],
   "source": [
    "final_filtered_data['precio_relleno'] = precio_2\n",
    "final_filtered_data['precio_relleno_mon'] = precio_1\n",
    "final_filtered_data.sample(5)"
   ]
  },
  {
   "cell_type": "code",
   "execution_count": 458,
   "metadata": {},
   "outputs": [
    {
     "data": {
      "text/plain": [
       "64"
      ]
     },
     "execution_count": 458,
     "metadata": {},
     "output_type": "execute_result"
    }
   ],
   "source": [
    "len(final_filtered_data) - final_filtered_data.precio_relleno.isnull().sum()"
   ]
  },
  {
   "cell_type": "code",
   "execution_count": 459,
   "metadata": {},
   "outputs": [],
   "source": [
    "final_filtered_data['precio'] = final_filtered_data['price_aprox_usd'].fillna(final_filtered_data['precio_relleno'])"
   ]
  },
  {
   "cell_type": "code",
   "execution_count": 460,
   "metadata": {},
   "outputs": [
    {
     "data": {
      "text/plain": [
       "0.0"
      ]
     },
     "execution_count": 460,
     "metadata": {},
     "output_type": "execute_result"
    }
   ],
   "source": [
    "final_filtered_data.precio.isnull().sum() *100 / len(final_filtered_data)"
   ]
  },
  {
   "cell_type": "code",
   "execution_count": 461,
   "metadata": {},
   "outputs": [
    {
     "data": {
      "text/plain": [
       "64"
      ]
     },
     "execution_count": 461,
     "metadata": {},
     "output_type": "execute_result"
    }
   ],
   "source": [
    "(~final_filtered_data.precio_relleno.isnull()).sum()"
   ]
  },
  {
   "cell_type": "code",
   "execution_count": 462,
   "metadata": {},
   "outputs": [
    {
     "data": {
      "text/plain": [
       "property_type                    0\n",
       "place_name                       0\n",
       "place_with_parent_names          0\n",
       "state_name                       0\n",
       "geonames_id                      0\n",
       "lat-lon                          0\n",
       "lat                              0\n",
       "lon                              0\n",
       "price                            0\n",
       "currency                         0\n",
       "price_aprox_local_currency       0\n",
       "price_aprox_usd                  0\n",
       "surface_total_in_m2              0\n",
       "surface_covered_in_m2            0\n",
       "price_usd_per_m2                 0\n",
       "price_per_m2                     0\n",
       "rooms                            0\n",
       "properati_url                    0\n",
       "description                      0\n",
       "title                            0\n",
       "ambientes                     1432\n",
       "precio_relleno                3442\n",
       "precio_relleno_mon            3442\n",
       "precio                           0\n",
       "dtype: int64"
      ]
     },
     "execution_count": 462,
     "metadata": {},
     "output_type": "execute_result"
    }
   ],
   "source": [
    "final_filtered_data.isna().sum()"
   ]
  },
  {
   "cell_type": "code",
   "execution_count": 463,
   "metadata": {},
   "outputs": [],
   "source": [
    "#superficie en descripción\n",
    "patron_sup = \"((\\d{1,3})\\s?(m2)|(\\d{1,3})\\s?(metros))\"\n",
    "regex_sup = re.compile(patron_sup)\n",
    "description_series = final_filtered_data['description'].str.lower()\n",
    "description_series = description_series.apply(lambda x: str(x))\n",
    "resultado_sup = description_series.apply(lambda x: regex_sup.findall(x))"
   ]
  },
  {
   "cell_type": "code",
   "execution_count": 464,
   "metadata": {},
   "outputs": [
    {
     "data": {
      "text/plain": [
       "50                                                    []\n",
       "147                                                   []\n",
       "219                                                   []\n",
       "244                                                   []\n",
       "252                                                   []\n",
       "270                                [(50 m2, 50, m2, , )]\n",
       "271                                [(88 m2, 88, m2, , )]\n",
       "415    [(120m2, 120, m2, , ), (6 metros, , , 6, metro...\n",
       "456                                [(16 m2, 16, m2, , )]\n",
       "457                                                   []\n",
       "459                                                   []\n",
       "464                                                   []\n",
       "563                                                   []\n",
       "565    [(8 m2, 8, m2, , ), (15 m2, 15, m2, , ), (104 ...\n",
       "572                                                   []\n",
       "589                                                   []\n",
       "619                                                   []\n",
       "622                                                   []\n",
       "623                                                   []\n",
       "624                                                   []\n",
       "Name: description, dtype: object"
      ]
     },
     "execution_count": 464,
     "metadata": {},
     "output_type": "execute_result"
    }
   ],
   "source": [
    "resultado_sup.head(20)"
   ]
  },
  {
   "cell_type": "code",
   "execution_count": 465,
   "metadata": {},
   "outputs": [],
   "source": [
    "sup1 = resultado_sup.apply(lambda x: x[0][1] if ((len(x) != 0)) else np.NaN )"
   ]
  },
  {
   "cell_type": "code",
   "execution_count": 466,
   "metadata": {},
   "outputs": [
    {
     "data": {
      "text/plain": [
       "'CODIGO:  ubicado en: Ricardo Balbin DR. 4300 -  Publicado por: LA KASA FELIZ PROP. Y SERVICIOS. El precio es de USD 181000 null. Descripción  A ESTRENAR - POSESION y ESCRITURA DENTRO DE LOS 60 DIAS DEPARTAMENTO AL CONTRAFRENTE - SUPERFICIE TOTAL: 71,88 m2. - DE 3 AMBIENTES: LIVING-COMNEDOR: 7,60X3 CON SALIDA A BALCON  2 DORMITORIOS CON PLACARDS CON FRENTE ESPEJADO y CON INTERIORES COMPLETOS: (3,10X2,70 CON SALIDA A BALCON) (3,04X2,80) 1 BAÑO TOIILETTE COCINA CON LAVADERO INCORPORADO. CALEFACCION POR LOZA RADIANTE INDIVIDUAL POR CABLE, MARCA EUROCABLE, TERMOSTATO POR AMBIENTE. AGUA CALIENTE CENTRAL. PREINSTALACION ELECTRICA PARA EQUIPOS TIPO SPLITS . INSTALACION DE TELEFONICA: LAS UNIDADES SE ENTREGAN CABLEADAS HASTA LA PRIMER BOCA y CUENTAN CON CANALIZACIONES VACIAS. CANALIZACIONES y BOCAS VACIAS PARA CONEXION DE TV DETALLES DEL EDIFICIO: HALL CON MARMOL y REVESTIMIENTO EN WENGUE. 2 ASCENSORES DE PRIMERA MARCA (UNO PARA 14 PERSONAS). AGUA CALIENTE CENTRAL, CON TRES TERMOTANQUES MARCA RHEEN DE ALTA RECUPERACION PILETA DE NATACION CON SISTEMA DE FILTRADO. SOLARIUM CON CRISTAL TEMPLADO EN LATERALES DE 2 mts. DE ALTURA. SUM. SALON DE USOS MULTIPLES PARRILLAS, GIMNASIO y LAUNDRY   Datos principales Departamento   Precio Venta  U$S 181000 71m² Superficie total 67m² Superficie cubierta 3 Ambientes 2 Dormitorios 1 Baño Antigüedad: A estrenar . Publicado a través de Mapaprop'"
      ]
     },
     "execution_count": 466,
     "metadata": {},
     "output_type": "execute_result"
    }
   ],
   "source": [
    "final_filtered_data.description.iloc[6]"
   ]
  },
  {
   "cell_type": "code",
   "execution_count": 467,
   "metadata": {},
   "outputs": [
    {
     "data": {
      "text/plain": [
       "pandas.core.series.Series"
      ]
     },
     "execution_count": 467,
     "metadata": {},
     "output_type": "execute_result"
    }
   ],
   "source": [
    "type(sup1)"
   ]
  },
  {
   "cell_type": "code",
   "execution_count": 468,
   "metadata": {},
   "outputs": [],
   "source": [
    "#https://kanoki.org/2019/11/12/how-to-use-regex-in-pandas/\n",
    "#https://www.guru99.com/python-regular-expressions-complete-tutorial.html\n",
    "#https://docs.python.org/3/library/re.html\n",
    "#https://towardsdatascience.com/how-to-export-pandas-dataframe-to-csv-2038e43d9c03"
   ]
  },
  {
   "cell_type": "markdown",
   "metadata": {},
   "source": [
    "## 5. Visualizaciones finales."
   ]
  },
  {
   "cell_type": "code",
   "execution_count": null,
   "metadata": {},
   "outputs": [],
   "source": []
  },
  {
   "cell_type": "code",
   "execution_count": null,
   "metadata": {},
   "outputs": [],
   "source": []
  },
  {
   "cell_type": "code",
   "execution_count": null,
   "metadata": {},
   "outputs": [],
   "source": []
  },
  {
   "cell_type": "markdown",
   "metadata": {},
   "source": [
    "## 6. Dataset final."
   ]
  },
  {
   "cell_type": "code",
   "execution_count": 469,
   "metadata": {},
   "outputs": [],
   "source": [
    "# dataset.describe"
   ]
  },
  {
   "cell_type": "code",
   "execution_count": 470,
   "metadata": {},
   "outputs": [],
   "source": [
    "# dataset.columns"
   ]
  },
  {
   "cell_type": "code",
   "execution_count": 471,
   "metadata": {},
   "outputs": [],
   "source": [
    "# dataset.shape"
   ]
  },
  {
   "cell_type": "code",
   "execution_count": 472,
   "metadata": {},
   "outputs": [],
   "source": [
    "# dataset_nulls = get_null(dataset)"
   ]
  },
  {
   "cell_type": "code",
   "execution_count": 473,
   "metadata": {},
   "outputs": [],
   "source": [
    "# plt.figure(figsize=(10,6))\n",
    "# sns.displot(\n",
    "#     data=df.isna().melt(value_name=\"missing\"),\n",
    "#     y=\"variable\",\n",
    "#     hue=\"missing\",\n",
    "#     multiple=\"fill\",\n",
    "#     aspect=1.25)"
   ]
  },
  {
   "cell_type": "code",
   "execution_count": 474,
   "metadata": {},
   "outputs": [],
   "source": [
    "# dataset.dropna(inplace=True)"
   ]
  },
  {
   "cell_type": "code",
   "execution_count": 475,
   "metadata": {},
   "outputs": [],
   "source": [
    "#sns.pairplot(df,vars=['price_aprox_usd', 'distance_obelisco', 'surface_covered_in_m2'],corner=True, dropna=True)"
   ]
  },
  {
   "cell_type": "code",
   "execution_count": 476,
   "metadata": {},
   "outputs": [],
   "source": [
    "# fig, axs = plt.subplots(1,3, figsize=(15, 5))\n",
    "\n",
    "# sns.scatterplot(x=((df[(df.property_type == 'apartment')].price_aprox_usd).apply(custom_log10)), \n",
    "#                 y=(df[(df.property_type == 'apartment')].surface_covered_in_m2 ), \n",
    "#                 alpha=0.2, ax=axs[0], hue=df['segmento_precio_m2'])\n",
    "\n",
    "# axs[0].set_xlabel('log (Price USD)')\n",
    "# axs[0].set_title(\"Departamentos\")\n",
    "\n",
    "# sns.scatterplot(x=((df[(df.property_type == 'house')].price_aprox_usd).apply(custom_log10)), \n",
    "#                 y=(df[(df.property_type == 'house')].surface_covered_in_m2 ), \n",
    "#                 alpha=0.2, ax=axs[1], hue=df['segmento_precio_m2'])\n",
    "\n",
    "# axs[1].set_xlabel('log (Price USD)')\n",
    "# axs[1].set_title(\"Casas\")\n",
    "\n",
    "# sns.scatterplot(x=((df[(df.property_type == 'store')].price_aprox_usd).apply(custom_log10)), \n",
    "#                 y=(df[(df.property_type == 'store')].surface_covered_in_m2 ), \n",
    "#                 alpha=0.2, ax=axs[2], hue=df['segmento_precio_m2'])\n",
    "\n",
    "# axs[2].set_xlabel('log (Price USD)')\n",
    "# axs[2].set_title(\"Comercial\")"
   ]
  },
  {
   "cell_type": "code",
   "execution_count": 477,
   "metadata": {},
   "outputs": [],
   "source": [
    "# fig, axs = plt.subplots(1,3, figsize=(15, 5))\n",
    "\n",
    "# sns.scatterplot(x=((df[(df.property_type == 'apartment')].price_aprox_usd)), \n",
    "#                 y=(df[(df.property_type == 'apartment')].surface_covered_in_m2 ), \n",
    "#                 alpha=0.2, ax=axs[0], hue=df['segmento_precio_m2'])\n",
    "\n",
    "\n",
    "# axs[0].set_title(\"Departamentos\")\n",
    "\n",
    "# sns.scatterplot(x=((df[(df.property_type == 'house')].price_aprox_usd)), \n",
    "#                 y=(df[(df.property_type == 'house')].surface_covered_in_m2 ), \n",
    "#                 alpha=0.2, ax=axs[1], hue=df['segmento_precio_m2'])\n",
    "\n",
    "\n",
    "# axs[1].set_title(\"Casas\")\n",
    "\n",
    "# sns.scatterplot(x=((df[(df.property_type == 'store')].price_aprox_usd)), \n",
    "#                 y=(df[(df.property_type == 'store')].surface_covered_in_m2 ), \n",
    "#                 alpha=0.2, ax=axs[2], hue=df['segmento_precio_m2'])\n",
    "\n",
    "\n",
    "# axs[2].set_title(\"Comercial\")"
   ]
  },
  {
   "cell_type": "code",
   "execution_count": 478,
   "metadata": {},
   "outputs": [],
   "source": [
    "# En primer lugar, vamos a seleccionar la información que creemos será de utilidad para cumplir con el objetivo.\n",
    "\n",
    "# Características del bien que pueden permitirnos aproximar el precio de una propiedad: \n",
    "\n",
    "#     1) Localidad (place_with_parent_names) \n",
    "#     2) Tipo de propiedad (property_type)\n",
    "#     3) Superficie(m2), cubierta y total (surface_total_in_m2, surface_covered_in_m2)\n",
    "#     4) Ambientes (rooms)\n",
    "\n",
    "# Como referencia para poder predecir precios, tomaremos los que se listan en el data set (price, currency, price_aprox_usd), \n",
    "# siempre buscando agrupar los mismos por las características que detallamos previamente.\n",
    "\n",
    "#Características que van a permitirnos agregar más información sobre el bien en cuestión y su precio:\n",
    "\n",
    "#     5) Ubicación geográfica (place_with_parent_names, lat-lon)\n",
    "#     6) Amenities (properati_url, description, title)"
   ]
  },
  {
   "cell_type": "code",
   "execution_count": 479,
   "metadata": {},
   "outputs": [],
   "source": [
    "#En segundo lugar, teniendo en cuenta que el data set contiene muchísima información y no toda estará completa o será de utilidad a\n",
    "#nuestro entender, haremos un proceso inicial de limpieza y corrección, intentando recuperar información a partir de otras variables.\n",
    "\n",
    "#a) Estandarizar los precios a una moneda. En nuestro caso, decidimos unificar los valores en USD.\n",
    "\n",
    "# b) Completaremos datos faltantes de las columnas que consideramos relevantes, aprovechando la información descriptiva de las columnas title, \n",
    "# descriprion y url. Para ello recurriremos a las expresiones regulares para completar las columnas de precios, superficie total\n",
    "# (surface_total_in_m2), habitaciones (rooms) y precios por m2.\n"
   ]
  },
  {
   "cell_type": "code",
   "execution_count": 480,
   "metadata": {},
   "outputs": [],
   "source": [
    "#En tercer lugar, seleccionaremos aquellas variables que consideramos más importantes en relación a nuestro objetivo para efectuar\n",
    "#un análisis descriptivo de las mismas."
   ]
  },
  {
   "cell_type": "code",
   "execution_count": 481,
   "metadata": {},
   "outputs": [],
   "source": [
    "#En cuarto lugar, haremos las visualizaciones generando distintos gráficos representativos de los resultados obtenidos."
   ]
  },
  {
   "cell_type": "code",
   "execution_count": 482,
   "metadata": {},
   "outputs": [],
   "source": [
    "#Por último, crearemos nuevas columnas a partir de las características dadas que puedan tener valor predictivo."
   ]
  },
  {
   "cell_type": "code",
   "execution_count": null,
   "metadata": {},
   "outputs": [],
   "source": []
  }
 ],
 "metadata": {
  "interpreter": {
   "hash": "ffdf71705c48afcd6d3921be1f1d182c89c9d9a6f4407b08d543d4080311b5e9"
  },
  "kernelspec": {
   "display_name": "Python 3 (ipykernel)",
   "language": "python",
   "name": "python3"
  },
  "language_info": {
   "codemirror_mode": {
    "name": "ipython",
    "version": 3
   },
   "file_extension": ".py",
   "mimetype": "text/x-python",
   "name": "python",
   "nbconvert_exporter": "python",
   "pygments_lexer": "ipython3",
   "version": "3.8.12"
  }
 },
 "nbformat": 4,
 "nbformat_minor": 4
}
